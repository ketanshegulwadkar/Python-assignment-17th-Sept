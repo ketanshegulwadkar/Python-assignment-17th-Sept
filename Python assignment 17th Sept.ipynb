{
 "cells": [
  {
   "cell_type": "raw",
   "id": "55140770-ecb8-4786-ad68-2dfdce59413f",
   "metadata": {},
   "source": [
    "> For Loop :-"
   ]
  },
  {
   "cell_type": "code",
   "execution_count": 1,
   "id": "d2e74021-f0a1-4105-8a0e-cb4286ba654f",
   "metadata": {},
   "outputs": [
    {
     "name": "stdout",
     "output_type": "stream",
     "text": [
      "1\n",
      "2\n",
      "3\n",
      "4\n",
      "5\n",
      "6\n",
      "7\n",
      "8\n",
      "9\n",
      "10\n"
     ]
    }
   ],
   "source": [
    "'''1. Write a Python program to print numbers from 1 to 10 using a for loop.'''\n",
    "\n",
    "for i in range(1, 11):\n",
    "    print(i)"
   ]
  },
  {
   "cell_type": "raw",
   "id": "77562a00-6557-4c4d-81d8-19be4b411c76",
   "metadata": {},
   "source": [
    "'''2. Explain the difference between a for loop and a while loop in Python.'''\n",
    "\n",
    "In Python, both for and while loops are used for repetitive execution of a block of code, but they have different structures and use cases.\n",
    "\n",
    "A> For Loop:\n",
    "\n",
    "The for loop is used when you know in advance how many times you want to execute a block of code.\n",
    "It iterates over a sequence (such as a list, tuple, string, or range) and executes the code block for each item in the sequence.\n",
    "The syntax for a for loop is as follows:\n",
    "    \n",
    "    for variable in sequence:\n",
    "    # Code to be executed for each item in the sequence\n",
    "   \n",
    "    Here's an example:\n",
    "    \n",
    "    for i in range(1, 6):\n",
    "    print(i)\n",
    "    \n",
    "This for loop will print numbers from 1 to 5.\n",
    "\n",
    "\n",
    "\n",
    "B> While Loop:\n",
    "\n",
    "The while loop is used when you want to repeatedly execute a block of code as long as a certain condition is true.\n",
    "It continues to execute the code block as long as the specified condition remains true.\n",
    "The syntax for a while loop is as follows:\n",
    "\n",
    "while condition:\n",
    "    # Code to be executed as long as the condition is true\n",
    "    \n",
    "    Here's an example:\n",
    "\n",
    "    count = 1\n",
    "    while count <= 5:\n",
    "      print(count)\n",
    "      count += 1    \n",
    "      \n",
    "      \n",
    "This while loop will print numbers from 1 to 5, as long as the count variable is less than or equal to 5.\n",
    "\n",
    "In summary, use a for loop when you know the number of iterations beforehand and have a sequence to iterate over. Use a while loop when you want to repeat a block of code until a specific condition is no longer true.      "
   ]
  },
  {
   "cell_type": "code",
   "execution_count": 3,
   "id": "331deea2-5535-448b-a30f-bdd21251e379",
   "metadata": {},
   "outputs": [
    {
     "name": "stdout",
     "output_type": "stream",
     "text": [
      "Sum of numbers from 1 to 100: 5050\n"
     ]
    }
   ],
   "source": [
    "'''3. Write a Python program to calculate the sum of all numbers from 1 to 100 using a for loop.'''\n",
    "\n",
    "# Initialize the sum variable\n",
    "sum_of_numbers = 0\n",
    "\n",
    "# Use a for loop to iterate through numbers from 1 to 100 (inclusive)\n",
    "for number in range(1, 101):\n",
    "    # Add each number to the sum\n",
    "    sum_of_numbers += number\n",
    "\n",
    "# Print the result\n",
    "print(\"Sum of numbers from 1 to 100:\", sum_of_numbers)"
   ]
  },
  {
   "cell_type": "raw",
   "id": "9c831057-faee-4a01-a70e-95d797e7b548",
   "metadata": {},
   "source": [
    "'''4. How do you iterate through a list using a for loop in Python?'''\n",
    "\n",
    "In Python, you can use a for loop to iterate through each element in a list. The general syntax for a for loop when iterating through a list is as follows:\n",
    "\n",
    "my_list = [element1, element2, element3, ...]\n",
    "\n",
    "for item in my_list:\n",
    "    # Code to be executed for each item in the list\n",
    "\n",
    "Here's an example to illustrate how to iterate through a list using a for loop:\n",
    "\n",
    "my_list = [1, 2, 3, 4, 5]\n",
    "\n",
    "for number in my_list:\n",
    "    print(number)\n",
    "    \n",
    "In this example, the for loop iterates through each element (number) in the list my_list, and the print statement prints each number on a new line. The loop will iterate as many times as there are elements in the list.\n",
    "\n",
    "You can perform various operations within the loop for each element of the list, depending on your specific requirements.    "
   ]
  },
  {
   "cell_type": "code",
   "execution_count": 9,
   "id": "1aab4c4e-950c-4a05-b6d4-c3669cb260af",
   "metadata": {},
   "outputs": [
    {
     "name": "stdout",
     "output_type": "stream",
     "text": [
      "Product of elements in the list: 120\n"
     ]
    }
   ],
   "source": [
    "'''5. Write a Python program to find the product of all elements in a list using a for loop.'''\n",
    "\n",
    "# Define a list of numbers\n",
    "my_list = [2, 3, 4, 5]\n",
    "\n",
    "# Initialize the product variable with 1 (since multiplying by 1 doesn't change the value)\n",
    "product_of_elements = 1\n",
    "\n",
    "# Use a for loop to iterate through each element in the list\n",
    "for number in my_list:\n",
    "    # Multiply each number with the current product\n",
    "    product_of_elements *= number\n",
    "\n",
    "# Print the result\n",
    "print(\"Product of elements in the list:\", product_of_elements)"
   ]
  },
  {
   "cell_type": "code",
   "execution_count": 10,
   "id": "25f6d649-66b4-4451-8976-14d12a9b7c56",
   "metadata": {},
   "outputs": [
    {
     "name": "stdout",
     "output_type": "stream",
     "text": [
      "2\n",
      "4\n",
      "6\n",
      "8\n",
      "10\n",
      "12\n",
      "14\n",
      "16\n",
      "18\n",
      "20\n"
     ]
    }
   ],
   "source": [
    "'''6. Create a Python program that prints all even numbers from 1 to 20 using a for loop.'''\n",
    "\n",
    "# Use a for loop to iterate through numbers from 1 to 20\n",
    "for number in range(1, 21):\n",
    "    # Check if the number is even\n",
    "    if number % 2 == 0:\n",
    "        # Print the even number\n",
    "        print(number)"
   ]
  },
  {
   "cell_type": "code",
   "execution_count": 1,
   "id": "092edc7a-d628-4f65-bc7c-fe3b588d741c",
   "metadata": {},
   "outputs": [
    {
     "name": "stdin",
     "output_type": "stream",
     "text": [
      "Enter a number:  5\n"
     ]
    },
    {
     "name": "stdout",
     "output_type": "stream",
     "text": [
      "The factorial of 5 is: 120\n"
     ]
    }
   ],
   "source": [
    "'''7. Write a Python program that calculates the factorial of a number using a for loop.'''\n",
    "\n",
    "# Function to calculate the factorial of a number\n",
    "def calculate_factorial(n):\n",
    "    # Initialize the factorial variable with 1\n",
    "    factorial = 1\n",
    "\n",
    "    # Use a for loop to multiply numbers from 1 to n\n",
    "    for i in range(1, n + 1):\n",
    "        factorial *= i\n",
    "\n",
    "    return factorial\n",
    "\n",
    "# Get user input for the number\n",
    "num = int(input(\"Enter a number: \"))\n",
    "\n",
    "# Check if the number is non-negative\n",
    "if num < 0:\n",
    "    print(\"Factorial is undefined for negative numbers.\")\n",
    "else:\n",
    "    # Calculate and print the factorial\n",
    "    result = calculate_factorial(num)\n",
    "    print(f\"The factorial of {num} is: {result}\")"
   ]
  },
  {
   "cell_type": "raw",
   "id": "1ada329e-0f78-44b4-9e11-c5b994e7264a",
   "metadata": {},
   "source": [
    "'''8. How can you iterate through the characters of a string using a for loop in Python?'''\n",
    "\n",
    "In Python, you can use a for loop to iterate through the characters of a string. The general syntax is as follows:\n",
    "\n",
    "my_string = \"Hello, World!\"\n",
    "for char in my_string:\n",
    "    \n",
    " # Code to be executed for each character in the string\n",
    " \n",
    "Here's an example:\n",
    "\n",
    "my_string = \"Hello, World!\"\n",
    "for char in my_string:\n",
    "    print(char)\n",
    "    \n",
    "    \n",
    "In this example, the for loop iterates through each character (char) in the string my_string, and the print statement prints each character on a new line. The loop will iterate as many times as there are characters in the string."
   ]
  },
  {
   "cell_type": "code",
   "execution_count": 7,
   "id": "70de8864-244c-4058-b1f8-a1aebc74e46f",
   "metadata": {},
   "outputs": [
    {
     "name": "stdout",
     "output_type": "stream",
     "text": [
      "The largest number in the list is: 89\n"
     ]
    }
   ],
   "source": [
    "'''9. Write a Python program to find the largest number in a list using a for loop.'''\n",
    "\n",
    "# Define a list of numbers\n",
    "my_list = [12, 45, 67, 23, 89, 34, 56]\n",
    "\n",
    "# Initialize the variable to store the largest number with the first element of the list\n",
    "largest_number = my_list[0]\n",
    "\n",
    "# Use a for loop to iterate through each element in the list\n",
    "for number in my_list:\n",
    "    # Check if the current number is greater than the current largest number\n",
    "    if number > largest_number:\n",
    "        # Update the largest number\n",
    "        largest_number = number\n",
    "\n",
    "# Print the result\n",
    "print(\"The largest number in the list is:\", largest_number)"
   ]
  },
  {
   "cell_type": "code",
   "execution_count": 8,
   "id": "8a6d7b2a-8863-475b-8c48-d692d7167fc3",
   "metadata": {},
   "outputs": [
    {
     "name": "stdin",
     "output_type": "stream",
     "text": [
      "Enter the limit for the Fibonacci sequence:  20\n"
     ]
    },
    {
     "name": "stdout",
     "output_type": "stream",
     "text": [
      "Fibonacci sequence up to 20 : [0, 1, 1, 2, 3, 5, 8, 13]\n"
     ]
    }
   ],
   "source": [
    "'''10. Create a Python program that prints the Fibonacci sequence up to a specified limit using a for loop.'''\n",
    "\n",
    "# Function to generate Fibonacci sequence up to a specified limit\n",
    "def fibonacci(limit):\n",
    "    fib_sequence = [0, 1]\n",
    "\n",
    "    for i in range(2, limit):\n",
    "        next_fib = fib_sequence[-1] + fib_sequence[-2]\n",
    "\n",
    "        # Check if the next Fibonacci number exceeds the limit\n",
    "        if next_fib > limit:\n",
    "            break\n",
    "\n",
    "        fib_sequence.append(next_fib)\n",
    "\n",
    "    return fib_sequence\n",
    "\n",
    "# Get user input for the limit\n",
    "limit = int(input(\"Enter the limit for the Fibonacci sequence: \"))\n",
    "\n",
    "# Check if the limit is non-negative\n",
    "if limit < 0:\n",
    "    print(\"Please enter a non-negative limit.\")\n",
    "else:\n",
    "    # Generate and print the Fibonacci sequence up to the specified limit\n",
    "    result = fibonacci(limit)\n",
    "    print(\"Fibonacci sequence up to\", limit, \":\", result)"
   ]
  },
  {
   "cell_type": "code",
   "execution_count": 9,
   "id": "4f15ceee-1b1b-40c1-b56b-7686b025829f",
   "metadata": {},
   "outputs": [
    {
     "name": "stdin",
     "output_type": "stream",
     "text": [
      "Enter a string:  Good Morning\n"
     ]
    },
    {
     "name": "stdout",
     "output_type": "stream",
     "text": [
      "Number of vowels in the string: 4\n"
     ]
    }
   ],
   "source": [
    "'''11. Write a Python program to count the number of vowels in a given string using a for loop.'''\n",
    "\n",
    "# Function to count the number of vowels in a string\n",
    "def count_vowels(input_string):\n",
    "    vowels = \"aeiouAEIOU\"\n",
    "    count = 0\n",
    "\n",
    "    for char in input_string:\n",
    "        if char in vowels:\n",
    "            count += 1\n",
    "\n",
    "    return count\n",
    "\n",
    "# Get user input for the string\n",
    "input_string = input(\"Enter a string: \")\n",
    "\n",
    "# Call the function to count vowels and print the result\n",
    "vowel_count = count_vowels(input_string)\n",
    "print(\"Number of vowels in the string:\", vowel_count)"
   ]
  },
  {
   "cell_type": "code",
   "execution_count": 10,
   "id": "777061bc-6f39-409a-9027-ce385e1da8a6",
   "metadata": {},
   "outputs": [
    {
     "name": "stdin",
     "output_type": "stream",
     "text": [
      "Enter the number for the multiplication table:  45\n",
      "Enter the limit for the multiplication table:  10\n"
     ]
    },
    {
     "name": "stdout",
     "output_type": "stream",
     "text": [
      "Multiplication table for 45 up to 10:\n",
      "45 x 1 = 45\n",
      "45 x 2 = 90\n",
      "45 x 3 = 135\n",
      "45 x 4 = 180\n",
      "45 x 5 = 225\n",
      "45 x 6 = 270\n",
      "45 x 7 = 315\n",
      "45 x 8 = 360\n",
      "45 x 9 = 405\n",
      "45 x 10 = 450\n"
     ]
    }
   ],
   "source": [
    "'''12. Create a Python program that generates a multiplication table for a given number using a for loop.'''\n",
    "\n",
    "# Function to generate a multiplication table for a given number\n",
    "def multiplication_table(number, limit):\n",
    "    print(f\"Multiplication table for {number} up to {limit}:\")\n",
    "    for i in range(1, limit + 1):\n",
    "        result = number * i\n",
    "        print(f\"{number} x {i} = {result}\")\n",
    "\n",
    "# Get user input for the number and limit\n",
    "number = int(input(\"Enter the number for the multiplication table: \"))\n",
    "limit = int(input(\"Enter the limit for the multiplication table: \"))\n",
    "\n",
    "# Call the function to generate and print the multiplication table\n",
    "multiplication_table(number, limit)"
   ]
  },
  {
   "cell_type": "code",
   "execution_count": 2,
   "id": "f7f51d80-3b63-4fe5-9967-967c1bcc43aa",
   "metadata": {},
   "outputs": [
    {
     "name": "stdout",
     "output_type": "stream",
     "text": [
      "Original List: [1, 2, 3, 4, 5]\n",
      "Reversed List: [5, 4, 3, 2, 1]\n"
     ]
    }
   ],
   "source": [
    "'''13. Write a Python program to reverse a list using a for loop.'''\n",
    "\n",
    "# Function to reverse a list using a for loop\n",
    "def reverse_list(input_list):\n",
    "    reversed_list = []\n",
    "\n",
    "    # Use a for loop to iterate through the input list in reverse order\n",
    "    for item in reversed(input_list):\n",
    "        reversed_list.append(item)\n",
    "\n",
    "    return reversed_list\n",
    "\n",
    "# Example usage\n",
    "original_list = [1, 2, 3, 4, 5]\n",
    "reversed_result = reverse_list(original_list)\n",
    "\n",
    "# Print the original and reversed lists\n",
    "print(\"Original List:\", original_list)\n",
    "print(\"Reversed List:\", reversed_result)"
   ]
  },
  {
   "cell_type": "code",
   "execution_count": 3,
   "id": "beaafd8a-586a-470e-a5d3-7f5e8db143fa",
   "metadata": {},
   "outputs": [
    {
     "name": "stdout",
     "output_type": "stream",
     "text": [
      "List 1: [1, 2, 3, 4, 5]\n",
      "List 2: [3, 4, 5, 6, 7]\n",
      "Common Elements: [3, 4, 5]\n"
     ]
    }
   ],
   "source": [
    "'''14. Write a Python program to find the common elements between two lists using a for loop.'''\n",
    "\n",
    "# Function to find common elements between two lists using a for loop\n",
    "def find_common_elements(list1, list2):\n",
    "    common_elements = []\n",
    "\n",
    "    # Use a for loop to iterate through elements of list1\n",
    "    for item1 in list1:\n",
    "        # Check if the element is also present in list2\n",
    "        if item1 in list2:\n",
    "            common_elements.append(item1)\n",
    "\n",
    "    return common_elements\n",
    "\n",
    "# Example usage\n",
    "list1 = [1, 2, 3, 4, 5]\n",
    "list2 = [3, 4, 5, 6, 7]\n",
    "\n",
    "common_elements_result = find_common_elements(list1, list2)\n",
    "\n",
    "# Print the original lists and the common elements\n",
    "print(\"List 1:\", list1)\n",
    "print(\"List 2:\", list2)\n",
    "print(\"Common Elements:\", common_elements_result)"
   ]
  },
  {
   "cell_type": "raw",
   "id": "e4c6f3bd-09ca-49c1-b295-3056afdd0ced",
   "metadata": {},
   "source": [
    "'''15. Explain how to use a for loop to iterate through the keys and values of a dictionary in Python.'''\n",
    "\n",
    "In Python, you can use a for loop to iterate through the keys and values of a dictionary using the items() method. The items() method returns a view of the dictionary's key-value pairs as tuples, which can be easily unpacked in the loop. Here's the general syntax:\n",
    "\n",
    "my_dict = {'key1': 'value1', 'key2': 'value2', 'key3': 'value3'}\n",
    "\n",
    "# Iterate through keys and values using a for loop\n",
    "for key, value in my_dict.items():\n",
    "    # Code to be executed for each key-value pair\n",
    "    \n",
    "    \n",
    "\n",
    "Here's an example to illustrate the process:\n",
    "\n",
    "\n",
    "my_dict = {'name': 'John', 'age': 25, 'city': 'New York'}\n",
    "\n",
    "# Iterate through keys and values using a for loop\n",
    "for key, value in my_dict.items():\n",
    "    print(f\"Key: {key}, Value: {value}\")\n",
    "    \n",
    "    \n",
    "In this example, the for loop iterates through each key-value pair in the dictionary. The key variable holds the current key, and the value variable holds the corresponding value. The loop body can contain any code to process or print the keys and values as needed.\n",
    "\n",
    "This method is convenient for iterating through both keys and values simultaneously, and it is often used when you need to perform operations on both components of the key-value pairs."
   ]
  },
  {
   "cell_type": "code",
   "execution_count": 5,
   "id": "4dd21a9c-7f6b-45b1-a28a-23336f2da4e0",
   "metadata": {},
   "outputs": [
    {
     "name": "stdin",
     "output_type": "stream",
     "text": [
      "Enter the first number:  12\n",
      "Enter the second number:  40\n"
     ]
    },
    {
     "name": "stdout",
     "output_type": "stream",
     "text": [
      "The GCD of 12 and 40 is: 4\n"
     ]
    }
   ],
   "source": [
    "'''16. Write a Python program to find the GCD (Greatest Common Divisor) of two numbers using a for loop.'''\n",
    "\n",
    "# Function to calculate the GCD using the Euclidean algorithm\n",
    "def find_gcd(a, b):\n",
    "    while b:\n",
    "        a, b = b, a % b\n",
    "    return a\n",
    "\n",
    "# Get user input for the two numbers\n",
    "num1 = int(input(\"Enter the first number: \"))\n",
    "num2 = int(input(\"Enter the second number: \"))\n",
    "\n",
    "# Check if both numbers are non-negative\n",
    "if num1 < 0 or num2 < 0:\n",
    "    print(\"Please enter non-negative numbers.\")\n",
    "else:\n",
    "    # Call the function to find and print the GCD\n",
    "    gcd_result = find_gcd(num1, num2)\n",
    "    print(f\"The GCD of {num1} and {num2} is:\", gcd_result)"
   ]
  },
  {
   "cell_type": "code",
   "execution_count": 7,
   "id": "f2a11757-7dc6-42fa-a091-7d09d552956d",
   "metadata": {},
   "outputs": [
    {
     "name": "stdin",
     "output_type": "stream",
     "text": [
      "Enter a string:  REVIVER\n"
     ]
    },
    {
     "name": "stdout",
     "output_type": "stream",
     "text": [
      "REVIVER is a palindrome.\n"
     ]
    }
   ],
   "source": [
    "'''17. Create a Python program that checks if a string is a palindrome using a for loop.'''\n",
    "\n",
    "# Function to check if a string is a palindrome\n",
    "def is_palindrome(input_string):\n",
    "    # Remove spaces and convert to lowercase for case-insensitive comparison\n",
    "    cleaned_string = input_string.replace(\" \", \"\").lower()\n",
    "\n",
    "    # Use a for loop to compare characters from both ends of the string\n",
    "    for i in range(len(cleaned_string) // 2):\n",
    "        if cleaned_string[i] != cleaned_string[-1 - i]:\n",
    "            return False\n",
    "\n",
    "    return True\n",
    "\n",
    "# Get user input for the string\n",
    "user_input = input(\"Enter a string: \")\n",
    "\n",
    "# Call the function to check if the string is a palindrome\n",
    "if is_palindrome(user_input):\n",
    "    print(f\"{user_input} is a palindrome.\")\n",
    "else:\n",
    "    print(f\"{user_input} is not a palindrome.\")"
   ]
  },
  {
   "cell_type": "code",
   "execution_count": 1,
   "id": "bf6b2d17-9625-4c6a-bd52-eac2b548aba8",
   "metadata": {},
   "outputs": [
    {
     "name": "stdout",
     "output_type": "stream",
     "text": [
      "Original List: [1, 2, 2, 3, 4, 4, 5, 6, 6]\n",
      "List without duplicates: [1, 2, 3, 4, 5, 6]\n"
     ]
    }
   ],
   "source": [
    "'''Write a Python program to remove duplicates from a list using a for loop.'''\n",
    "\n",
    "# Function to remove duplicates from a list using a for loop\n",
    "def remove_duplicates(input_list):\n",
    "    unique_list = []\n",
    "\n",
    "    for item in input_list:\n",
    "        # Check if the item is not already in the unique_list\n",
    "        if item not in unique_list:\n",
    "            unique_list.append(item)\n",
    "\n",
    "    return unique_list\n",
    "\n",
    "# Example usage\n",
    "original_list = [1, 2, 2, 3, 4, 4, 5, 6, 6]\n",
    "\n",
    "# Call the function to remove duplicates and print the result\n",
    "result_list = remove_duplicates(original_list)\n",
    "print(\"Original List:\", original_list)\n",
    "print(\"List without duplicates:\", result_list)"
   ]
  },
  {
   "cell_type": "code",
   "execution_count": 3,
   "id": "527e647a-fc7e-4dab-950d-7ed82db9ec91",
   "metadata": {},
   "outputs": [
    {
     "name": "stdin",
     "output_type": "stream",
     "text": [
      "Enter a sentence:  How Are You All Team ?\n"
     ]
    },
    {
     "name": "stdout",
     "output_type": "stream",
     "text": [
      "Number of words in the sentence: 6\n"
     ]
    }
   ],
   "source": [
    "'''Create a Python program that counts the number of words in a sentence using a for loop.'''\n",
    "\n",
    "# Function to count the number of words in a sentence\n",
    "def count_words(sentence):\n",
    "    # Initialize the word count to 0\n",
    "    word_count = 0\n",
    "\n",
    "    # Use a for loop to iterate through each character in the sentence\n",
    "    for char in sentence:\n",
    "        # Check for spaces to identify word boundaries\n",
    "        if char == ' ':\n",
    "            word_count += 1\n",
    "\n",
    "    # Increment the count by 1 to include the last word\n",
    "    word_count += 1\n",
    "\n",
    "    return word_count\n",
    "\n",
    "# Get user input for the sentence\n",
    "user_sentence = input(\"Enter a sentence: \")\n",
    "\n",
    "# Call the function to count words and print the result\n",
    "result = count_words(user_sentence)\n",
    "print(\"Number of words in the sentence:\", result)"
   ]
  },
  {
   "cell_type": "code",
   "execution_count": 1,
   "id": "74a328f4-0dbd-4682-bbd7-1fb9e0a090ee",
   "metadata": {},
   "outputs": [
    {
     "name": "stdout",
     "output_type": "stream",
     "text": [
      "Sum of odd numbers from 1 to 50: 625\n"
     ]
    }
   ],
   "source": [
    "'''20. Write a Python program to find the sum of all odd numbers from 1 to 50 using a for loop'''\n",
    "\n",
    "# Initialize the sum variable\n",
    "sum_of_odd_numbers = 0\n",
    "\n",
    "# Use a for loop to iterate through odd numbers from 1 to 50\n",
    "for number in range(1, 51, 2):\n",
    "    # Add each odd number to the sum\n",
    "    sum_of_odd_numbers += number\n",
    "\n",
    "# Print the result\n",
    "print(\"Sum of odd numbers from 1 to 50:\", sum_of_odd_numbers)"
   ]
  },
  {
   "cell_type": "code",
   "execution_count": 2,
   "id": "f2254988-9a00-47ce-9de9-a20acbb414e4",
   "metadata": {},
   "outputs": [
    {
     "name": "stdin",
     "output_type": "stream",
     "text": [
      "Enter a year:  2024\n"
     ]
    },
    {
     "name": "stdout",
     "output_type": "stream",
     "text": [
      "2024 is a leap year.\n"
     ]
    }
   ],
   "source": [
    "'''21. Write a Python program that checks if a given year is a leap year using a for loop.'''\n",
    "\n",
    "# Function to check if a year is a leap year\n",
    "def is_leap_year(year):\n",
    "    # Check if the year satisfies leap year conditions\n",
    "    if (year % 4 == 0 and year % 100 != 0) or (year % 400 == 0):\n",
    "        return True\n",
    "    else:\n",
    "        return False\n",
    "\n",
    "# Get user input for the year\n",
    "user_year = int(input(\"Enter a year: \"))\n",
    "\n",
    "# Call the function to check if the year is a leap year and print the result\n",
    "if is_leap_year(user_year):\n",
    "    print(f\"{user_year} is a leap year.\")\n",
    "else:\n",
    "    print(f\"{user_year} is not a leap year.\")"
   ]
  },
  {
   "cell_type": "code",
   "execution_count": 3,
   "id": "4a393c7c-8b26-49d1-b1fc-1454fef05ee5",
   "metadata": {},
   "outputs": [
    {
     "name": "stdin",
     "output_type": "stream",
     "text": [
      "Enter a number:  36\n"
     ]
    },
    {
     "name": "stdout",
     "output_type": "stream",
     "text": [
      "The square root of 36.0 is approximately: 6.000000002793968\n"
     ]
    }
   ],
   "source": [
    "'''22. Create a Python program that calculates the square root of a number using a for loop.'''\n",
    "\n",
    "# Function to calculate the square root using a for loop\n",
    "def calculate_square_root(number, precision=0.0001, max_iterations=100):\n",
    "    guess = number / 2  # Initial guess for the square root\n",
    "\n",
    "    for _ in range(max_iterations):\n",
    "        # Improve the guess using the average of the guess and the number divided by the guess\n",
    "        guess = 0.5 * (guess + number / guess)\n",
    "\n",
    "        # Check if the guess is precise enough\n",
    "        if abs(guess * guess - number) < precision:\n",
    "            return guess\n",
    "\n",
    "    return guess  # Return the last guess after reaching the maximum iterations\n",
    "\n",
    "# Get user input for the number\n",
    "user_number = float(input(\"Enter a number: \"))\n",
    "\n",
    "# Check if the number is non-negative\n",
    "if user_number < 0:\n",
    "    print(\"Please enter a non-negative number.\")\n",
    "else:\n",
    "    # Call the function to calculate the square root and print the result\n",
    "    result = calculate_square_root(user_number)\n",
    "    print(f\"The square root of {user_number} is approximately: {result}\")"
   ]
  },
  {
   "cell_type": "code",
   "execution_count": 6,
   "id": "f1a8e34c-69af-448b-a4b5-a72f114811d9",
   "metadata": {},
   "outputs": [
    {
     "name": "stdin",
     "output_type": "stream",
     "text": [
      "Enter the first number:  2\n",
      "Enter the second number:  4\n"
     ]
    },
    {
     "name": "stdout",
     "output_type": "stream",
     "text": [
      "The LCM of 2 and 4 is: 4\n"
     ]
    }
   ],
   "source": [
    "'''23. Write a Python program to find the LCM (Least Common Multiple) of two numbers using a for loop.'''\n",
    "\n",
    "# Function to calculate the GCD (Greatest Common Divisor)\n",
    "def calculate_gcd(a, b):\n",
    "    while b:\n",
    "        a, b = b, a % b\n",
    "    return a\n",
    "\n",
    "# Function to calculate the LCM (Least Common Multiple)\n",
    "def calculate_lcm(a, b):\n",
    "    # Calculate the product of the two numbers\n",
    "    product = a * b\n",
    "\n",
    "    # Use the GCD to calculate the LCM\n",
    "    gcd = calculate_gcd(a, b)\n",
    "    lcm = product // gcd\n",
    "\n",
    "    return lcm\n",
    "\n",
    "# Get user input for the two numbers\n",
    "num1 = int(input(\"Enter the first number: \"))\n",
    "num2 = int(input(\"Enter the second number: \"))\n",
    "\n",
    "# Check if both numbers are non-negative\n",
    "if num1 < 0 or num2 < 0:\n",
    "    print(\"Please enter non-negative numbers.\")\n",
    "else:\n",
    "    # Call the function to calculate the LCM and print the result\n",
    "    lcm_result = calculate_lcm(num1, num2)\n",
    "    print(f\"The LCM of {num1} and {num2} is:\", lcm_result)"
   ]
  },
  {
   "cell_type": "raw",
   "id": "28074394-8382-4a0b-a036-64504c35e14e",
   "metadata": {},
   "source": [
    "> If else :"
   ]
  },
  {
   "cell_type": "code",
   "execution_count": 7,
   "id": "45e3ec56-8b57-455d-9652-ff3be0d448bb",
   "metadata": {},
   "outputs": [
    {
     "name": "stdin",
     "output_type": "stream",
     "text": [
      "Enter a number:  5\n"
     ]
    },
    {
     "name": "stdout",
     "output_type": "stream",
     "text": [
      "The entered number is positive.\n"
     ]
    }
   ],
   "source": [
    "'''1. Write a Python program to check if a number is positive, negative, or zero using an if-else statement.'''\n",
    "\n",
    "# Get user input for the number\n",
    "user_number = float(input(\"Enter a number: \"))\n",
    "\n",
    "# Check if the number is positive, negative, or zero using if-else statements\n",
    "if user_number > 0:\n",
    "    print(\"The entered number is positive.\")\n",
    "elif user_number < 0:\n",
    "    print(\"The entered number is negative.\")\n",
    "else:\n",
    "    print(\"The entered number is zero.\")\n"
   ]
  },
  {
   "cell_type": "code",
   "execution_count": 3,
   "id": "077b17d9-a121-4f9e-a309-22daa26ed689",
   "metadata": {},
   "outputs": [
    {
     "name": "stdin",
     "output_type": "stream",
     "text": [
      "Enter a number:  37\n"
     ]
    },
    {
     "name": "stdout",
     "output_type": "stream",
     "text": [
      "37 is odd.\n"
     ]
    }
   ],
   "source": [
    "'''2. Create a Python program that checks if a given number is even or odd using an if-else statement.'''\n",
    "\n",
    "# Function to check if a number is even or odd\n",
    "def check_even_odd(number):\n",
    "    if number % 2 == 0:\n",
    "        print(f\"{number} is even.\")\n",
    "    else:\n",
    "        print(f\"{number} is odd.\")\n",
    "\n",
    "# Taking user input for the number\n",
    "user_input = input(\"Enter a number: \")\n",
    "\n",
    "# Handling non-integer input\n",
    "try:\n",
    "    number = int(user_input)\n",
    "    # Calling the function to check even or odd\n",
    "    check_even_odd(number)\n",
    "except ValueError:\n",
    "    print(\"Invalid input. Please enter a valid integer.\")"
   ]
  },
  {
   "cell_type": "code",
   "execution_count": 1,
   "id": "ef7ca937-386f-4f38-bfd9-1b87ab1db51c",
   "metadata": {},
   "outputs": [
    {
     "name": "stdin",
     "output_type": "stream",
     "text": [
      "Enter a number:  25\n"
     ]
    },
    {
     "name": "stdout",
     "output_type": "stream",
     "text": [
      "The number is positive.\n",
      "It is an odd number.\n"
     ]
    }
   ],
   "source": [
    "'''3. How can you use nested if-else statements in Python, and provide an example?'''\n",
    "\n",
    "#Nested if-else statements in Python allow you to include one if-else statement inside another. This can be useful when you need to check multiple conditions in a hierarchical manner. Here's an example:\n",
    "\n",
    "\n",
    "# Nested if-else statements example\n",
    "def check_number_category(number):\n",
    "    if number > 0:\n",
    "        print(\"The number is positive.\")\n",
    "        if number % 2 == 0:\n",
    "            print(\"It is an even number.\")\n",
    "        else:\n",
    "            print(\"It is an odd number.\")\n",
    "    elif number < 0:\n",
    "        print(\"The number is negative.\")\n",
    "    else:\n",
    "        print(\"The number is zero.\")\n",
    "\n",
    "# Taking user input for the number\n",
    "user_input = input(\"Enter a number: \")\n",
    "\n",
    "# Handling non-integer input\n",
    "try:\n",
    "    number = int(user_input)\n",
    "    # Calling the function to check the number category\n",
    "    check_number_category(number)\n",
    "except ValueError:\n",
    "    print(\"Invalid input. Please enter a valid integer.\")\n",
    "    \n",
    "    \n",
    "#In this example, the check_number_category function takes a number as an argument and checks whether it's positive, negative, or zero. \n",
    "#If the number is positive, it further checks whether it's even or odd using a nested if-else statement.\n",
    "#This demonstrates how you can use nested if-else statements to handle more complex decision-making based on multiple conditions."
   ]
  },
  {
   "cell_type": "code",
   "execution_count": 2,
   "id": "d3524b1c-c902-4b0b-badf-4a51136159da",
   "metadata": {},
   "outputs": [
    {
     "name": "stdin",
     "output_type": "stream",
     "text": [
      "Enter the first number:  10\n",
      "Enter the second number:  20\n",
      "Enter the third number:  30\n"
     ]
    },
    {
     "name": "stdout",
     "output_type": "stream",
     "text": [
      "The largest number is: 30.0\n"
     ]
    }
   ],
   "source": [
    "'''4. Write a Python program to determine the largest of three numbers using if-else.'''\n",
    "\n",
    "# Function to find the largest of three numbers\n",
    "def find_largest_number(num1, num2, num3):\n",
    "    if num1 >= num2 and num1 >= num3:\n",
    "        largest = num1\n",
    "    elif num2 >= num1 and num2 >= num3:\n",
    "        largest = num2\n",
    "    else:\n",
    "        largest = num3\n",
    "\n",
    "    return largest\n",
    "\n",
    "# Taking user input for three numbers\n",
    "try:\n",
    "    num1 = float(input(\"Enter the first number: \"))\n",
    "    num2 = float(input(\"Enter the second number: \"))\n",
    "    num3 = float(input(\"Enter the third number: \"))\n",
    "\n",
    "    # Calling the function to find the largest number\n",
    "    result = find_largest_number(num1, num2, num3)\n",
    "\n",
    "    print(f\"The largest number is: {result}\")\n",
    "except ValueError:\n",
    "    print(\"Invalid input. Please enter valid numbers.\")"
   ]
  },
  {
   "cell_type": "code",
   "execution_count": 3,
   "id": "d74704c1-4c66-4555-8911-da0e96c4e72a",
   "metadata": {},
   "outputs": [
    {
     "name": "stdin",
     "output_type": "stream",
     "text": [
      "Enter a number:  -2\n"
     ]
    },
    {
     "name": "stdout",
     "output_type": "stream",
     "text": [
      "The absolute value of -2.0 is: 2.0\n"
     ]
    }
   ],
   "source": [
    "'''5. Write a Python program that calculates the absolute value of a number using if-else.'''\n",
    "\n",
    "# Function to calculate the absolute value of a number\n",
    "def calculate_absolute_value(number):\n",
    "    if number < 0:\n",
    "        absolute_value = -number\n",
    "    else:\n",
    "        absolute_value = number\n",
    "\n",
    "    return absolute_value\n",
    "\n",
    "# Taking user input for the number\n",
    "try:\n",
    "    user_input = float(input(\"Enter a number: \"))\n",
    "    \n",
    "    # Calling the function to calculate absolute value\n",
    "    result = calculate_absolute_value(user_input)\n",
    "\n",
    "    print(f\"The absolute value of {user_input} is: {result}\")\n",
    "except ValueError:\n",
    "    print(\"Invalid input. Please enter a valid number.\")"
   ]
  },
  {
   "cell_type": "code",
   "execution_count": 8,
   "id": "4133251b-81f2-4ca3-a71b-22cca83cb56a",
   "metadata": {},
   "outputs": [
    {
     "name": "stdin",
     "output_type": "stream",
     "text": [
      "Enter a character:  A\n"
     ]
    },
    {
     "name": "stdout",
     "output_type": "stream",
     "text": [
      "A is a vowel.\n"
     ]
    }
   ],
   "source": [
    "'''6. Create a Python program that checks if a given character is a vowel or consonant using if-else.'''\n",
    "\n",
    "# Function to check if a character is a vowel or consonant\n",
    "def check_vowel_consonant(char):\n",
    "    # Convert the character to lowercase for case-insensitive comparison\n",
    "    char_lower = char.lower()\n",
    "\n",
    "    # Check if the character is a vowel or consonant\n",
    "    if char_lower in 'aeiou':\n",
    "        print(f\"{char} is a vowel.\")\n",
    "    else:\n",
    "        print(f\"{char} is a consonant.\")\n",
    "\n",
    "# Taking user input for the character\n",
    "user_input = input(\"Enter a character: \")\n",
    "\n",
    "# Checking if the input is a single character\n",
    "if len(user_input) == 1 and user_input.isalpha():\n",
    "    # Calling the function to check if it's a vowel or consonant\n",
    "    check_vowel_consonant(user_input)\n",
    "else:\n",
    "    print(\"Invalid input. Please enter a single alphabetical character.\")"
   ]
  },
  {
   "cell_type": "code",
   "execution_count": 9,
   "id": "330688ac-bba4-4ac1-ad58-7a1f880fca0d",
   "metadata": {},
   "outputs": [
    {
     "name": "stdin",
     "output_type": "stream",
     "text": [
      "Enter your age:  25\n"
     ]
    },
    {
     "name": "stdout",
     "output_type": "stream",
     "text": [
      "You are eligible to vote.\n"
     ]
    }
   ],
   "source": [
    "'''7. Write a Python program to determine if a user is eligible to vote based on their age using if-else.'''\n",
    "\n",
    "# Function to check eligibility to vote\n",
    "def check_voting_eligibility(age):\n",
    "    if age >= 18:\n",
    "        print(\"You are eligible to vote.\")\n",
    "    else:\n",
    "        print(\"Sorry, you are not eligible to vote. You must be 18 years or older.\")\n",
    "\n",
    "# Taking user input for age\n",
    "try:\n",
    "    age = int(input(\"Enter your age: \"))\n",
    "    \n",
    "    # Calling the function to check eligibility\n",
    "    check_voting_eligibility(age)\n",
    "except ValueError:\n",
    "    print(\"Invalid input. Please enter a valid age.\")"
   ]
  },
  {
   "cell_type": "code",
   "execution_count": 10,
   "id": "ff174d88-ed9d-4886-9caa-699879e446ac",
   "metadata": {},
   "outputs": [
    {
     "name": "stdin",
     "output_type": "stream",
     "text": [
      "Enter the purchase amount:  1000\n"
     ]
    },
    {
     "name": "stdout",
     "output_type": "stream",
     "text": [
      "Discount Amount: $100.00\n"
     ]
    }
   ],
   "source": [
    "'''8. Create a Python program that calculates the discount amount based on the purchase amount using if-else.'''\n",
    "\n",
    "# Function to calculate discount amount\n",
    "def calculate_discount(purchase_amount):\n",
    "    if purchase_amount >= 1000:\n",
    "        discount_percent = 10\n",
    "    elif purchase_amount >= 500:\n",
    "        discount_percent = 5\n",
    "    else:\n",
    "        discount_percent = 0\n",
    "\n",
    "    discount_amount = (discount_percent / 100) * purchase_amount\n",
    "    return discount_amount\n",
    "\n",
    "# Taking user input for the purchase amount\n",
    "try:\n",
    "    purchase_amount = float(input(\"Enter the purchase amount: \"))\n",
    "    \n",
    "    # Calling the function to calculate discount amount\n",
    "    discount = calculate_discount(purchase_amount)\n",
    "\n",
    "    print(f\"Discount Amount: ${discount:.2f}\")\n",
    "except ValueError:\n",
    "    print(\"Invalid input. Please enter a valid purchase amount.\")"
   ]
  },
  {
   "cell_type": "code",
   "execution_count": 11,
   "id": "f143831a-ab8f-48aa-9ec2-1d2cb1acfa76",
   "metadata": {},
   "outputs": [
    {
     "name": "stdin",
     "output_type": "stream",
     "text": [
      "Enter a number:  24\n",
      "Enter the lower limit of the range:  1\n",
      "Enter the upper limit of the range:  30\n"
     ]
    },
    {
     "name": "stdout",
     "output_type": "stream",
     "text": [
      "24.0 is within the specified range.\n"
     ]
    }
   ],
   "source": [
    "'''9. Write a Python program to check if a number is within a specified range using if-else.'''\n",
    "\n",
    "# Function to check if a number is within a specified range\n",
    "def check_in_range(number, lower_limit, upper_limit):\n",
    "    if lower_limit <= number <= upper_limit:\n",
    "        print(f\"{number} is within the specified range.\")\n",
    "    else:\n",
    "        print(f\"{number} is outside the specified range.\")\n",
    "\n",
    "# Taking user input for the number and range limits\n",
    "try:\n",
    "    number = float(input(\"Enter a number: \"))\n",
    "    lower_limit = float(input(\"Enter the lower limit of the range: \"))\n",
    "    upper_limit = float(input(\"Enter the upper limit of the range: \"))\n",
    "    \n",
    "    # Calling the function to check if the number is within the range\n",
    "    check_in_range(number, lower_limit, upper_limit)\n",
    "except ValueError:\n",
    "    print(\"Invalid input. Please enter valid numeric values.\")"
   ]
  },
  {
   "cell_type": "code",
   "execution_count": 12,
   "id": "daf31338-2c54-4d71-9ec5-bf32028732fb",
   "metadata": {},
   "outputs": [
    {
     "name": "stdin",
     "output_type": "stream",
     "text": [
      "Enter the student's score:  75\n"
     ]
    },
    {
     "name": "stdout",
     "output_type": "stream",
     "text": [
      "The student's grade is: C\n"
     ]
    }
   ],
   "source": [
    "'''10. Create a Python program that determines the grade of a student based on their score using if-else.'''\n",
    "\n",
    "# Function to determine the grade based on the score\n",
    "def determine_grade(score):\n",
    "    if 90 <= score <= 100:\n",
    "        grade = 'A'\n",
    "    elif 80 <= score < 90:\n",
    "        grade = 'B'\n",
    "    elif 70 <= score < 80:\n",
    "        grade = 'C'\n",
    "    elif 60 <= score < 70:\n",
    "        grade = 'D'\n",
    "    elif 0 <= score < 60:\n",
    "        grade = 'F'\n",
    "    else:\n",
    "        grade = 'Invalid Score'\n",
    "\n",
    "    return grade\n",
    "\n",
    "# Taking user input for the score\n",
    "try:\n",
    "    score = float(input(\"Enter the student's score: \"))\n",
    "    \n",
    "    # Calling the function to determine the grade\n",
    "    student_grade = determine_grade(score)\n",
    "\n",
    "    if student_grade == 'Invalid Score':\n",
    "        print(\"Invalid input. Please enter a valid score between 0 and 100.\")\n",
    "    else:\n",
    "        print(f\"The student's grade is: {student_grade}\")\n",
    "except ValueError:\n",
    "    print(\"Invalid input. Please enter a valid numeric score.\")"
   ]
  },
  {
   "cell_type": "code",
   "execution_count": 1,
   "id": "7d947bda-a1e4-4336-8ff9-fd57976a0368",
   "metadata": {},
   "outputs": [
    {
     "name": "stdin",
     "output_type": "stream",
     "text": [
      "Enter a string:  Good Morning\n"
     ]
    },
    {
     "name": "stdout",
     "output_type": "stream",
     "text": [
      "The string is not empty.\n"
     ]
    }
   ],
   "source": [
    "'''11. Write a Python program to check if a string is empty or not using if-else.'''\n",
    "\n",
    "# Function to check if a string is empty or not\n",
    "def check_empty_string(input_string):\n",
    "    if not input_string:\n",
    "        print(\"The string is empty.\")\n",
    "    else:\n",
    "        print(\"The string is not empty.\")\n",
    "\n",
    "# Taking user input for the string\n",
    "user_input = input(\"Enter a string: \")\n",
    "\n",
    "# Calling the function to check if the string is empty or not\n",
    "check_empty_string(user_input)"
   ]
  },
  {
   "cell_type": "code",
   "execution_count": 2,
   "id": "13d0d4be-99f2-4a4b-82ff-4eebe7b073ba",
   "metadata": {},
   "outputs": [
    {
     "name": "stdin",
     "output_type": "stream",
     "text": [
      "Enter the length of side 1:  8\n",
      "Enter the length of side 2:  6\n",
      "Enter the length of side 3:  4\n"
     ]
    },
    {
     "name": "stdout",
     "output_type": "stream",
     "text": [
      "The triangle is Scalene.\n"
     ]
    }
   ],
   "source": [
    "'''12. Create a Python program that identifies the type of a triangle (e.g., equilateral, isosceles, or scalene) based on input values using if-else.'''\n",
    "\n",
    "# Function to identify the type of triangle\n",
    "def identify_triangle_type(side1, side2, side3):\n",
    "    if side1 == side2 == side3:\n",
    "        triangle_type = \"Equilateral\"\n",
    "    elif side1 == side2 or side1 == side3 or side2 == side3:\n",
    "        triangle_type = \"Isosceles\"\n",
    "    else:\n",
    "        triangle_type = \"Scalene\"\n",
    "\n",
    "    return triangle_type\n",
    "\n",
    "# Taking user input for the sides of the triangle\n",
    "try:\n",
    "    side1 = float(input(\"Enter the length of side 1: \"))\n",
    "    side2 = float(input(\"Enter the length of side 2: \"))\n",
    "    side3 = float(input(\"Enter the length of side 3: \"))\n",
    "    \n",
    "    # Calling the function to identify the type of triangle\n",
    "    triangle_type = identify_triangle_type(side1, side2, side3)\n",
    "\n",
    "    if triangle_type == \"Scalene\":\n",
    "        print(\"The triangle is Scalene.\")\n",
    "    elif triangle_type == \"Isosceles\":\n",
    "        print(\"The triangle is Isosceles.\")\n",
    "    else:\n",
    "        print(\"The triangle is Equilateral.\")\n",
    "except ValueError:\n",
    "    print(\"Invalid input. Please enter valid numeric values for the sides of the triangle.\")"
   ]
  },
  {
   "cell_type": "code",
   "execution_count": 3,
   "id": "e185a43c-7142-4d35-9338-8eda529c176a",
   "metadata": {},
   "outputs": [
    {
     "name": "stdin",
     "output_type": "stream",
     "text": [
      "Enter a number (1-7) representing the day of the week:  4\n"
     ]
    },
    {
     "name": "stdout",
     "output_type": "stream",
     "text": [
      "The day of the week is: Thursday\n"
     ]
    }
   ],
   "source": [
    "'''13. Write a Python program to determine the day of the week based on a user-provided number using if-else.'''\n",
    "\n",
    "# Function to determine the day of the week\n",
    "def determine_day_of_week(day_number):\n",
    "    if day_number == 1:\n",
    "        day_name = \"Monday\"\n",
    "    elif day_number == 2:\n",
    "        day_name = \"Tuesday\"\n",
    "    elif day_number == 3:\n",
    "        day_name = \"Wednesday\"\n",
    "    elif day_number == 4:\n",
    "        day_name = \"Thursday\"\n",
    "    elif day_number == 5:\n",
    "        day_name = \"Friday\"\n",
    "    elif day_number == 6:\n",
    "        day_name = \"Saturday\"\n",
    "    elif day_number == 7:\n",
    "        day_name = \"Sunday\"\n",
    "    else:\n",
    "        day_name = \"Invalid day number\"\n",
    "\n",
    "    return day_name\n",
    "\n",
    "# Taking user input for the day number\n",
    "try:\n",
    "    day_number = int(input(\"Enter a number (1-7) representing the day of the week: \"))\n",
    "    \n",
    "    # Calling the function to determine the day of the week\n",
    "    day_name = determine_day_of_week(day_number)\n",
    "\n",
    "    if day_name == \"Invalid day number\":\n",
    "        print(\"Invalid input. Please enter a number between 1 and 7.\")\n",
    "    else:\n",
    "        print(f\"The day of the week is: {day_name}\")\n",
    "except ValueError:\n",
    "    print(\"Invalid input. Please enter a valid numeric day number.\")"
   ]
  },
  {
   "cell_type": "code",
   "execution_count": 7,
   "id": "1986c51a-a505-4b7f-82e8-92a0b56944dd",
   "metadata": {},
   "outputs": [
    {
     "name": "stdin",
     "output_type": "stream",
     "text": [
      "Enter a year:  2025\n"
     ]
    },
    {
     "name": "stdout",
     "output_type": "stream",
     "text": [
      "2025 is not a leap year.\n"
     ]
    }
   ],
   "source": [
    "'''14. Create a Python program that checks if a given year is a leap year using both if-else and a function.'''\n",
    "\n",
    "# Function to check if a year is a leap year\n",
    "def is_leap_year(year):\n",
    "    if (year % 4 == 0 ):\n",
    "        return True\n",
    "    else:\n",
    "        return False\n",
    "\n",
    "# Taking user input for the year\n",
    "try:\n",
    "    year = int(input(\"Enter a year: \"))\n",
    "    \n",
    "    # Calling the function to check if it's a leap year\n",
    "    if is_leap_year(year):\n",
    "        print(f\"{year} is a leap year.\")\n",
    "    else:\n",
    "        print(f\"{year} is not a leap year.\")\n",
    "except ValueError:\n",
    "    print(\"Invalid input. Please enter a valid numeric year.\")"
   ]
  },
  {
   "cell_type": "code",
   "execution_count": 19,
   "id": "bbe875b7-7b77-457e-b963-8618f44e03fe",
   "metadata": {},
   "outputs": [
    {
     "name": "stdin",
     "output_type": "stream",
     "text": [
      "Enter the numerator:  5\n",
      "Enter the denominator:  0\n"
     ]
    },
    {
     "name": "stdout",
     "output_type": "stream",
     "text": [
      "AssertionError: Error: Division by zero is not allowed.\n"
     ]
    }
   ],
   "source": [
    "'''15. How do you use the \"assert\" statement in Python to add debugging checks within if-else blocks?'''\n",
    "\n",
    "#The assert statement in Python is used for debugging purposes. \n",
    "#It evaluates an expression, and if the expression is False, it raises an AssertionError exception with an optional error message. \n",
    "#If the expression is True, the program continues to execute without any issues.\n",
    "#You can use assert within if-else blocks to add debugging checks. Here's an example:\n",
    "\n",
    "def divide_numbers(a, b):\n",
    "    assert b != 0, \"Error: Division by zero is not allowed.\"\n",
    "    \n",
    "    result = a / b\n",
    "    return result\n",
    "\n",
    "# Example usage\n",
    "try:\n",
    "    numerator = float(input(\"Enter the numerator: \"))\n",
    "    denominator = float(input(\"Enter the denominator: \"))\n",
    "\n",
    "    result = divide_numbers(numerator, denominator)\n",
    "    print(f\"Result of the division: {result}\")\n",
    "except ValueError:\n",
    "    print(\"Invalid input. Please enter valid numeric values.\")\n",
    "except AssertionError as e:\n",
    "    print(f\"AssertionError: {e}\")\n",
    "    \n",
    "    \n",
    "\n",
    "#In this example, the divide_numbers function checks if the denominator is not equal to zero using assert. \n",
    "#If the condition is False (i.e., the denominator is zero), an AssertionError is raised with the specified error message. \n",
    "#This helps in catching potential issues during development.\n",
    "#It's important to note that the use of assert is primarily for debugging, and it's recommended to disable assertions in production code for performance reasons.\n"
   ]
  },
  {
   "cell_type": "code",
   "execution_count": 21,
   "id": "821a9778-8fb4-4493-ac49-e01912b8e87e",
   "metadata": {},
   "outputs": [
    {
     "name": "stdin",
     "output_type": "stream",
     "text": [
      "Enter your age:  60\n"
     ]
    },
    {
     "name": "stdout",
     "output_type": "stream",
     "text": [
      "Congratulations! You are eligible for a senior citizen discount.\n"
     ]
    }
   ],
   "source": [
    "'''16. Create a Python program that determines the eligibility of a person for a senior citizen discount based on age using if-else.'''\n",
    "\n",
    "# Function to check eligibility for a senior citizen discount\n",
    "def check_senior_discount_eligibility(age):\n",
    "    if age >= 60:\n",
    "        print(\"Congratulations! You are eligible for a senior citizen discount.\")\n",
    "    else:\n",
    "        print(\"Sorry, you are not eligible for a senior citizen discount.\")\n",
    "\n",
    "# Taking user input for age\n",
    "try:\n",
    "    age = int(input(\"Enter your age: \"))\n",
    "    \n",
    "    # Calling the function to check eligibility\n",
    "    check_senior_discount_eligibility(age)\n",
    "except ValueError:\n",
    "    print(\"Invalid input. Please enter a valid numeric age.\")"
   ]
  },
  {
   "cell_type": "code",
   "execution_count": 1,
   "id": "1c09fd4e-4ece-4b85-b6ba-9dce75742b84",
   "metadata": {},
   "outputs": [
    {
     "name": "stdin",
     "output_type": "stream",
     "text": [
      "Enter a character:  K\n"
     ]
    },
    {
     "name": "stdout",
     "output_type": "stream",
     "text": [
      "The character 'K' is Uppercase.\n"
     ]
    }
   ],
   "source": [
    "'''17. Write a Python program to categorize a given character as uppercase, lowercase, or neither using if-else.'''\n",
    "\n",
    "# Function to categorize a character as uppercase, lowercase, or neither\n",
    "def categorize_character(char):\n",
    "    if char.isupper():\n",
    "        category = \"Uppercase\"\n",
    "    elif char.islower():\n",
    "        category = \"Lowercase\"\n",
    "    else:\n",
    "        category = \"Neither uppercase nor lowercase\"\n",
    "\n",
    "    return category\n",
    "\n",
    "# Taking user input for the character\n",
    "try:\n",
    "    user_input = input(\"Enter a character: \")\n",
    "\n",
    "    # Checking if the input is a single character\n",
    "    if len(user_input) == 1:\n",
    "        char = user_input\n",
    "        # Calling the function to categorize the character\n",
    "        char_category = categorize_character(char)\n",
    "        print(f\"The character '{char}' is {char_category}.\")\n",
    "    else:\n",
    "        print(\"Invalid input. Please enter a single character.\")\n",
    "except ValueError:\n",
    "    print(\"Invalid input. Please enter a valid character.\")\n",
    "    "
   ]
  },
  {
   "cell_type": "code",
   "execution_count": 2,
   "id": "668d4ba6-0e02-4e96-9e0b-3654ddf77b21",
   "metadata": {},
   "outputs": [
    {
     "name": "stdin",
     "output_type": "stream",
     "text": [
      "Enter the coefficient of x^2:  1\n",
      "Enter the coefficient of x:  7\n",
      "Enter the constant term:  10\n"
     ]
    },
    {
     "name": "stdout",
     "output_type": "stream",
     "text": [
      "The roots are real and distinct: -2.0 and -5.0\n"
     ]
    }
   ],
   "source": [
    "'''18. Write a Python program to determine the roots of a quadratic equation using if-else.'''\n",
    "\n",
    "import math\n",
    "\n",
    "# Function to determine the roots of a quadratic equation\n",
    "def quadratic_roots(a, b, c):\n",
    "    # Calculate the discriminant\n",
    "    discriminant = b**2 - 4*a*c\n",
    "    \n",
    "    # Check if the discriminant is positive, negative, or zero\n",
    "    if discriminant > 0:\n",
    "        root1 = (-b + math.sqrt(discriminant)) / (2*a)\n",
    "        root2 = (-b - math.sqrt(discriminant)) / (2*a)\n",
    "        print(f\"The roots are real and distinct: {root1} and {root2}\")\n",
    "    elif discriminant == 0:\n",
    "        root = -b / (2*a)\n",
    "        print(f\"The root is real and repeated: {root}\")\n",
    "    else:\n",
    "        real_part = -b / (2*a)\n",
    "        imaginary_part = math.sqrt(abs(discriminant)) / (2*a)\n",
    "        root1 = f\"{real_part} + {imaginary_part}i\"\n",
    "        root2 = f\"{real_part} - {imaginary_part}i\"\n",
    "        print(f\"The roots are complex conjugates: {root1} and {root2}\")\n",
    "\n",
    "# Taking user input for coefficients\n",
    "try:\n",
    "    a = float(input(\"Enter the coefficient of x^2: \"))\n",
    "    b = float(input(\"Enter the coefficient of x: \"))\n",
    "    c = float(input(\"Enter the constant term: \"))\n",
    "    \n",
    "    # Calling the function to determine the roots\n",
    "    quadratic_roots(a, b, c)\n",
    "except ValueError:\n",
    "    print(\"Invalid input. Please enter valid numeric coefficients.\")"
   ]
  },
  {
   "cell_type": "code",
   "execution_count": 3,
   "id": "a4fa39bc-5671-4a1a-a2eb-5bdbabf838c9",
   "metadata": {},
   "outputs": [
    {
     "name": "stdin",
     "output_type": "stream",
     "text": [
      "Enter a year:  2024\n"
     ]
    },
    {
     "name": "stdout",
     "output_type": "stream",
     "text": [
      "2024 is not a century year.\n"
     ]
    }
   ],
   "source": [
    "'''19. Create a Python program that checks if a given year is a century year or not using if-else.'''\n",
    "\n",
    "# Function to check if a year is a century year\n",
    "def is_century_year(year):\n",
    "    if year % 100 == 0:\n",
    "        print(f\"{year} is a century year.\")\n",
    "    else:\n",
    "        print(f\"{year} is not a century year.\")\n",
    "\n",
    "# Taking user input for the year\n",
    "try:\n",
    "    year = int(input(\"Enter a year: \"))\n",
    "    \n",
    "    # Calling the function to check if it's a century year\n",
    "    is_century_year(year)\n",
    "except ValueError:\n",
    "    print(\"Invalid input. Please enter a valid numeric year.\")"
   ]
  },
  {
   "cell_type": "code",
   "execution_count": 6,
   "id": "df83bdc2-6560-41f1-b19a-a1dcbe77a3a6",
   "metadata": {},
   "outputs": [
    {
     "name": "stdin",
     "output_type": "stream",
     "text": [
      "Enter a number:  25\n"
     ]
    },
    {
     "name": "stdout",
     "output_type": "stream",
     "text": [
      "25 is a perfect square.\n"
     ]
    }
   ],
   "source": [
    "'''20. Write a Python program to determine if a given number is a perfect square using if-else.'''\n",
    "\n",
    "# Function to check if a number is a perfect square\n",
    "def is_perfect_square(number):\n",
    "    square_root = int(number**0.5)\n",
    "    \n",
    "    if square_root**2 == number:\n",
    "        print(f\"{number} is a perfect square.\")\n",
    "    else:\n",
    "        print(f\"{number} is not a perfect square.\")\n",
    "\n",
    "# Taking user input for the number\n",
    "try:\n",
    "    number = int(input(\"Enter a number: \"))\n",
    "    \n",
    "    # Calling the function to check if it's a perfect square\n",
    "    is_perfect_square(number)\n",
    "except ValueError:\n",
    "    print(\"Invalid input. Please enter a valid numeric number.\")"
   ]
  },
  {
   "cell_type": "code",
   "execution_count": 8,
   "id": "56148ba5-e3e9-48b8-ab19-d38e89110fef",
   "metadata": {},
   "outputs": [
    {
     "name": "stdout",
     "output_type": "stream",
     "text": [
      "Value of i: 1\n",
      "Value of i: 2\n",
      "Value of i: 4\n",
      "Value of i: 5\n"
     ]
    }
   ],
   "source": [
    "'''21. Explain the purpose of the \"continue\" and \"break\" statements within if-else loops.'''\n",
    "\n",
    "#1. The continue and break statements are control flow statements used within loops in Python, including those within if-else constructs. They serve different purposes in controlling the flow of the program:\n",
    "\n",
    "#continue statement:\n",
    "\n",
    "#Purpose: The continue statement is used to skip the rest of the code inside a loop for the current iteration and move on to the next iteration.\n",
    "#Usage: When a continue statement is encountered, the remaining code inside the loop for the current iteration is skipped, and the loop proceeds to the next iteration.\n",
    "\n",
    "#Example:\n",
    "\n",
    "for i in range(1, 6):\n",
    "    if i == 3:\n",
    "        continue  # Skip the rest of the loop code for i = 3\n",
    "    print(f\"Value of i: {i}\")\n",
    "    "
   ]
  },
  {
   "cell_type": "code",
   "execution_count": 9,
   "id": "a1bf4fef-46c0-4a78-9436-cd033e9bdee5",
   "metadata": {},
   "outputs": [
    {
     "name": "stdout",
     "output_type": "stream",
     "text": [
      "Value of i: 1\n",
      "Value of i: 2\n"
     ]
    }
   ],
   "source": [
    "#2. break statement:\n",
    "\n",
    "#Purpose: The break statement is used to terminate the loop prematurely, causing the program to exit the loop and continue with the rest of the code after the loop.\n",
    "\n",
    "#Usage: When a break statement is encountered, the loop in which it is placed is immediately terminated, and the program continues with the next statement after the loop.\n",
    "\n",
    "#Example:\n",
    "\n",
    "\n",
    "for i in range(1, 6):\n",
    "    if i == 3:\n",
    "        break  # Terminate the loop when i = 3\n",
    "    print(f\"Value of i: {i}\")"
   ]
  },
  {
   "cell_type": "code",
   "execution_count": 12,
   "id": "fbba62b7-eb20-4032-9cb1-289dcef31cb1",
   "metadata": {},
   "outputs": [
    {
     "name": "stdin",
     "output_type": "stream",
     "text": [
      "Enter your weight in kilograms:  75\n",
      "Enter your height in centimeters:  170\n"
     ]
    },
    {
     "name": "stdout",
     "output_type": "stream",
     "text": [
      "Your BMI is: 25.95\n",
      "Category: Overweight\n"
     ]
    }
   ],
   "source": [
    "'''22. Create a Python program that calculates the BMI (Body Mass Index) of a person based on their weight and height using if-else.'''\n",
    "\n",
    "# Function to calculate BMI\n",
    "def calculate_bmi(weight, height):\n",
    "    # Ensure height is in meters\n",
    "    height_in_meters = height / 100.0\n",
    "    \n",
    "    # Calculate BMI\n",
    "    bmi = weight / (height_in_meters ** 2)\n",
    "    \n",
    "    return bmi\n",
    "\n",
    "# Function to categorize BMI\n",
    "def categorize_bmi(bmi):\n",
    "    if bmi < 18.5:\n",
    "        category = \"Underweight\"\n",
    "    elif 18.5 <= bmi < 24.9:\n",
    "        category = \"Normal weight\"\n",
    "    elif 25.0 <= bmi < 29.9:\n",
    "        category = \"Overweight\"\n",
    "    else:\n",
    "        category = \"Obese\"\n",
    "\n",
    "    return category\n",
    "\n",
    "# Taking user input for weight and height\n",
    "try:\n",
    "    weight = float(input(\"Enter your weight in kilograms: \"))\n",
    "    height = float(input(\"Enter your height in centimeters: \"))\n",
    "    \n",
    "    # Calling the function to calculate BMI\n",
    "    bmi = calculate_bmi(weight, height)\n",
    "\n",
    "    # Calling the function to categorize BMI\n",
    "    category = categorize_bmi(bmi)\n",
    "\n",
    "    print(f\"Your BMI is: {bmi:.2f}\")\n",
    "    print(f\"Category: {category}\")\n",
    "except ValueError:\n",
    "    print(\"Invalid input. Please enter valid numeric values for weight and height.\")"
   ]
  },
  {
   "cell_type": "code",
   "execution_count": 6,
   "id": "33123378-e97c-4f57-bc87-a340cdb08565",
   "metadata": {},
   "outputs": [
    {
     "name": "stdout",
     "output_type": "stream",
     "text": [
      "Original list: [1, 5, 8, 10, 15, 20]\n",
      "Filtered list (even numbers): [8, 10, 20]\n"
     ]
    }
   ],
   "source": [
    "'''23. How can you use the \"filter()\" function with if-else statements to filter elements from a list? '''\n",
    "\n",
    "#The filter() function is a built-in Python function that allows you to filter elements from an iterable (like a list) based on a specified function or condition. \n",
    "#While filter() itself doesn't use if-else statements directly, you can use it in combination with a custom function or lambda expression that includes if-else logic for filtering.\n",
    "#Here's an example of using the filter() function with if-else logic to filter elements from a list: \n",
    "\n",
    "\n",
    "# Example list of numbers\n",
    "numbers = [1, 5, 8, 10, 15, 20]\n",
    "\n",
    "# Function to filter even numbers using if-else logic\n",
    "def filter_even(num):\n",
    "    return True if num % 2 == 0 else False\n",
    "\n",
    "# Using filter() with the custom function\n",
    "filtered_numbers = filter(filter_even, numbers)\n",
    "\n",
    "# Converting the filter object to a list\n",
    "result_list = list(filtered_numbers)\n",
    "\n",
    "print(\"Original list:\", numbers)\n",
    "print(\"Filtered list (even numbers):\", result_list)\n",
    "\n",
    "\n",
    "#In this example, the filter_even function is defined to filter even numbers. \n",
    "#The filter() function then applies this custom function to the numbers list. \n",
    "#The result is a filter object, so we convert it to a list to see the filtered elements."
   ]
  },
  {
   "cell_type": "code",
   "execution_count": 7,
   "id": "bd76cade-e3c6-427b-857b-1cc643fb0dbf",
   "metadata": {},
   "outputs": [
    {
     "name": "stdin",
     "output_type": "stream",
     "text": [
      "Enter a number:  29\n"
     ]
    },
    {
     "name": "stdout",
     "output_type": "stream",
     "text": [
      "29 is a prime number.\n"
     ]
    }
   ],
   "source": [
    "'''24. Write a Python program to determine if a given number is prime or not using if-else.'''\n",
    "\n",
    "# Function to check if a number is prime\n",
    "def is_prime(number):\n",
    "    if number <= 1:\n",
    "        return False  # Numbers less than or equal to 1 are not prime\n",
    "    elif number == 2:\n",
    "        return True  # 2 is a prime number\n",
    "    else:\n",
    "        # Check for divisibility from 2 to the square root of the number\n",
    "        for i in range(2, int(number**0.5) + 1):\n",
    "            if number % i == 0:\n",
    "                return False  # If divisible by any number, it's not prime\n",
    "        return True\n",
    "\n",
    "# Taking user input for the number\n",
    "try:\n",
    "    user_input = int(input(\"Enter a number: \"))\n",
    "    \n",
    "    # Calling the function to check if it's prime\n",
    "    if is_prime(user_input):\n",
    "        print(f\"{user_input} is a prime number.\")\n",
    "    else:\n",
    "        print(f\"{user_input} is not a prime number.\")\n",
    "except ValueError:\n",
    "    print(\"Invalid input. Please enter a valid numeric number.\")"
   ]
  },
  {
   "cell_type": "raw",
   "id": "de4592e1-2e11-4d27-90f4-4fadc8f448d9",
   "metadata": {},
   "source": [
    "> MAP :-"
   ]
  },
  {
   "cell_type": "code",
   "execution_count": 2,
   "id": "69829f2e-3216-46b4-9214-6db76ba21bc2",
   "metadata": {},
   "outputs": [
    {
     "name": "stdout",
     "output_type": "stream",
     "text": [
      "Original list: [1, 2, 3, 4, 5]\n",
      "Squared numbers: [1, 4, 9, 16, 25]\n"
     ]
    }
   ],
   "source": [
    "'''1. Explain the purpose of the `map()` function in Python and provide an example of how it can be used to apply a function to each element of an iterable.'''\n",
    "\n",
    "\n",
    "#The map() function in Python is a built-in function that is used to apply a specified function to each item of an iterable (e.g., a list, tuple, or string). \n",
    "#It returns an iterator that produces the results of applying the given function to each item in the original iterable.\n",
    "#The basic syntax of the map() function is as follows:\n",
    "\n",
    "#SYNTAX :\n",
    "    \n",
    "#map(function, iterable, ...) \n",
    "\n",
    "#function: The function to apply to each element of the iterable(s).\n",
    "#iterable: One or more iterables whose elements will be passed to the function.\n",
    "\n",
    "\n",
    "#Here's an example of how the map() function can be used:\n",
    "\n",
    "# Function to square a number\n",
    "def square(x):\n",
    "    return x ** 2\n",
    "\n",
    "# List of numbers\n",
    "numbers = [1, 2, 3, 4, 5]\n",
    "\n",
    "# Using map() to apply the square function to each element of the list\n",
    "squared_numbers = map(square, numbers)\n",
    "\n",
    "# Converting the map object to a list\n",
    "result_list = list(squared_numbers)\n",
    "\n",
    "print(\"Original list:\", numbers)\n",
    "print(\"Squared numbers:\", result_list)\n",
    "\n",
    "\n",
    "#In this example, the square function takes a number as an argument and returns its square. \n",
    "#The map() function applies this function to each element of the numbers list, producing a map object. \n",
    "#The list() function is then used to convert the map object to a list, resulting in the squared numbers.\n",
    "\n",
    "\n",
    "#The map() function provides a concise way to transform elements in an iterable without the need for explicit loops. \n",
    "#It is commonly used in situations where you want to apply the same operation to every element of a collection, producing a new collection with the transformed values."
   ]
  },
  {
   "cell_type": "code",
   "execution_count": 3,
   "id": "2a197fb6-4b31-4501-bb1e-30daff86f77c",
   "metadata": {},
   "outputs": [
    {
     "name": "stdout",
     "output_type": "stream",
     "text": [
      "Original list: [1, 2, 3, 4, 5]\n",
      "Squared numbers: [1, 4, 9, 16, 25]\n"
     ]
    }
   ],
   "source": [
    "'''2. Write a Python program that uses the `map()` function to square each element of a list of numbers.'''\n",
    "\n",
    "# Function to square a number\n",
    "def square(x):\n",
    "    return x ** 2\n",
    "\n",
    "# List of numbers\n",
    "numbers = [1, 2, 3, 4, 5]\n",
    "\n",
    "# Using map() to apply the square function to each element of the list\n",
    "squared_numbers = map(square, numbers)\n",
    "\n",
    "# Converting the map object to a list\n",
    "result_list = list(squared_numbers)\n",
    "\n",
    "print(\"Original list:\", numbers)\n",
    "print(\"Squared numbers:\", result_list)"
   ]
  },
  {
   "cell_type": "raw",
   "id": "07fbb966-3e64-45e5-af01-ca04bf6edb53",
   "metadata": {},
   "source": [
    "'''3. How does the `map()` function differ from a list comprehension in Python, and when would you choose one over the other?'''\n",
    "\n",
    "\n",
    "#The map() function and list comprehensions in Python are both used for applying a given function to elements in an iterable, but they have some differences in terms of syntax and use cases.\n",
    "\n",
    "#map() Function:\n",
    "    \n",
    "#Syntax:\n",
    "#map(function, iterable, ...)\n",
    "\n",
    "#Characteristics:\n",
    "\n",
    "#Returns a map object, which is an iterator.\n",
    "#Requires a function argument and one or more iterable arguments.\n",
    "#Lazy evaluation: The map object produces values on-the-fly and doesn't create a new list immediately.\n",
    "#Often used when you want to transform each element in an iterable and produce an iterator without creating an intermediate list.\n",
    "\n",
    "#Example:\n",
    "#numbers = [1, 2, 3, 4, 5]\n",
    "#squared_numbers = map(lambda x: x**2, numbers)\n",
    "\n",
    "\n",
    "#List Comprehension:\n",
    "    \n",
    "#Syntax:\n",
    "#[expression for element in iterable if condition]\n",
    "\n",
    "#Characteristics:\n",
    "#Returns a new list.\n",
    "#Concise syntax for creating lists.\n",
    "#Allows filtering using an optional if condition.\n",
    "#Eager evaluation: The list is created immediately.\n",
    "\n",
    "#Example:\n",
    "#numbers = [1, 2, 3, 4, 5]\n",
    "#squared_numbers = [x**2 for x in numbers]\n",
    "\n",
    "#When to Choose One Over the Other:\n",
    "#Readability:\n",
    "#If the transformation is simple and can be expressed in a single line, list comprehensions are often more readable.\n",
    "#For more complex transformations or when using an existing function, map() can be more readable.\n",
    "\n",
    "#Lazy vs. Eager Evaluation:\n",
    "#If you prefer lazy evaluation (producing values on-the-fly without creating an immediate list), use map().\n",
    "#If you need the result as a list immediately, list comprehensions are more appropriate.\n",
    "\n",
    "#Function Application:\n",
    "#If applying an existing function (including built-in functions) to each element, map() might be more concise.\n",
    "#For custom transformations or expressions, list comprehensions are flexible.\n",
    "\n",
    "#Filtering:\n",
    "#If you need to filter elements based on a condition, list comprehensions provide a clean way to include an if clause.\n",
    "#map() can be combined with filter() for similar functionality, but it might be less readable.\n",
    "#In many cases, the choice between map() and list comprehensions comes down to personal preference and the specific requirements of the task at hand. \n",
    "#Both are powerful and efficient tools for transforming iterables in Python."
   ]
  },
  {
   "cell_type": "code",
   "execution_count": 1,
   "id": "f887639e-d9bc-48a8-a6ac-3be72c529407",
   "metadata": {},
   "outputs": [
    {
     "name": "stdout",
     "output_type": "stream",
     "text": [
      "Original names: ['Alice', 'Bob', 'Charlie', 'David', 'Emily']\n",
      "Uppercase names: ['ALICE', 'BOB', 'CHARLIE', 'DAVID', 'EMILY']\n"
     ]
    }
   ],
   "source": [
    "'''4. Create a Python program that uses the `map()` function to convert a list of names to uppercase'''\n",
    "\n",
    "# List of names\n",
    "names = [\"Alice\", \"Bob\", \"Charlie\", \"David\", \"Emily\"]\n",
    "\n",
    "# Using map() to convert each name to uppercase\n",
    "uppercase_names = map(str.upper, names)\n",
    "\n",
    "# Converting the map object to a list\n",
    "result_list = list(uppercase_names)\n",
    "\n",
    "print(\"Original names:\", names)\n",
    "print(\"Uppercase names:\", result_list)"
   ]
  },
  {
   "cell_type": "code",
   "execution_count": 2,
   "id": "962ea0ca-9325-4322-9a3c-8fd295eec5e9",
   "metadata": {},
   "outputs": [
    {
     "name": "stdout",
     "output_type": "stream",
     "text": [
      "Original words: ['apple', 'banana', 'orange', 'grape', 'kiwi']\n",
      "Word lengths: [5, 6, 6, 5, 4]\n"
     ]
    }
   ],
   "source": [
    "'''5. Write a Python program that uses the `map()` function to calculate the length of each word in a list of strings.'''\n",
    "\n",
    "# List of strings\n",
    "words_list = [\"apple\", \"banana\", \"orange\", \"grape\", \"kiwi\"]\n",
    "\n",
    "# Using map() to calculate the length of each word\n",
    "word_lengths = map(len, words_list)\n",
    "\n",
    "# Converting the map object to a list\n",
    "result_list = list(word_lengths)\n",
    "\n",
    "print(\"Original words:\", words_list)\n",
    "print(\"Word lengths:\", result_list)"
   ]
  },
  {
   "cell_type": "code",
   "execution_count": 7,
   "id": "184d8fe6-d91a-4fb9-baf4-85a767c19d00",
   "metadata": {},
   "outputs": [
    {
     "name": "stdout",
     "output_type": "stream",
     "text": [
      "List 1: ['Hello', 'Good', 'Python']\n",
      "List 2: ['World', 'Morning', 'Programming']\n",
      "Concatenated strings: ['Hello World', 'Good Morning', 'Python Programming']\n"
     ]
    }
   ],
   "source": [
    "'''6. How can you use the `map()` function to apply a custom function to elements of multiple lists simultaneously in Python?'''\n",
    "\n",
    "#To apply a custom function to elements of multiple lists simultaneously using the map() function in Python, you can pass multiple iterables (lists) as arguments to map(). \n",
    "#The custom function should take the same number of arguments as the number of iterables, and it will be applied element-wise.\n",
    "\n",
    "#Here's an example:\n",
    "\n",
    "# Custom function to concatenate corresponding elements from two lists\n",
    "def concatenate_strings(a, b):\n",
    "    return a + \" \" + b\n",
    "\n",
    "# Lists of strings\n",
    "list1 = [\"Hello\", \"Good\", \"Python\"]\n",
    "list2 = [\"World\", \"Morning\", \"Programming\"]\n",
    "\n",
    "# Using map() to apply the custom function to elements of both lists\n",
    "result = map(concatenate_strings, list1, list2)\n",
    "\n",
    "# Converting the map object to a list\n",
    "result_list = list(result)\n",
    "\n",
    "print(\"List 1:\", list1)\n",
    "print(\"List 2:\", list2)\n",
    "print(\"Concatenated strings:\", result_list)"
   ]
  },
  {
   "cell_type": "code",
   "execution_count": 1,
   "id": "625caf47-d705-4844-be6d-6cb0ad6799b3",
   "metadata": {},
   "outputs": [
    {
     "name": "stdout",
     "output_type": "stream",
     "text": [
      "Celsius temperatures: [0, 10, 20, 30, 40]\n",
      "Fahrenheit temperatures: [32.0, 50.0, 68.0, 86.0, 104.0]\n"
     ]
    }
   ],
   "source": [
    "'''7. Create a Python program that uses `map()` to convert a list of temperatures from Celsius to Fahrenheit.'''\n",
    "\n",
    "# Custom function to convert Celsius to Fahrenheit\n",
    "def celsius_to_fahrenheit(celsius):\n",
    "    return (celsius * 9/5) + 32\n",
    "\n",
    "# List of temperatures in Celsius\n",
    "celsius_temperatures = [0, 10, 20, 30, 40]\n",
    "\n",
    "# Using map() to apply the conversion function to each Celsius temperature\n",
    "fahrenheit_temperatures = map(celsius_to_fahrenheit, celsius_temperatures)\n",
    "\n",
    "# Converting the map object to a list\n",
    "result_list = list(fahrenheit_temperatures)\n",
    "\n",
    "print(\"Celsius temperatures:\", celsius_temperatures)\n",
    "print(\"Fahrenheit temperatures:\", result_list)"
   ]
  },
  {
   "cell_type": "code",
   "execution_count": 6,
   "id": "f7bdf1cd-6283-4100-ae6a-4a355d9629d3",
   "metadata": {},
   "outputs": [
    {
     "name": "stdout",
     "output_type": "stream",
     "text": [
      "Original floating-point numbers: [3.14, 2.718, 1.5, 7.9, 4.2]\n",
      "Rounded integers: [3, 3, 2, 8, 4]\n"
     ]
    }
   ],
   "source": [
    "'''8. Write a Python program that uses the `map()` function to round each element of a list of floating-point numbers to the nearest integer.'''\n",
    "\n",
    "# List of floating-point numbers\n",
    "float_numbers = [3.14, 2.718, 1.5, 7.9, 4.2]\n",
    "\n",
    "# Using map() to apply the round function to each floating-point number\n",
    "rounded_integers = map(round, float_numbers)\n",
    "\n",
    "# Converting the map object to a list\n",
    "result_list = list(rounded_integers)\n",
    "\n",
    "print(\"Original floating-point numbers:\", float_numbers)\n",
    "print(\"Rounded integers:\", result_list)"
   ]
  },
  {
   "cell_type": "raw",
   "id": "a3ddfd2b-2021-4daa-b250-b8863a77c589",
   "metadata": {},
   "source": [
    "> Reduce :-"
   ]
  },
  {
   "cell_type": "code",
   "execution_count": 1,
   "id": "fd990709-5ff2-44ae-9921-673ee2ce615b",
   "metadata": {},
   "outputs": [
    {
     "name": "stdout",
     "output_type": "stream",
     "text": [
      "List of numbers: [1, 2, 3, 4, 5]\n",
      "Product of all numbers: 120\n"
     ]
    }
   ],
   "source": [
    "'''1. What is the `reduce()` function in Python, and what module should you import to use it? Provide an example of its basic usage.'''\n",
    "\n",
    "#The reduce() function is a built-in function in Python that is part of the functools module. \n",
    "#The reduce() function is used for cumulative computations on a sequence of elements. \n",
    "#It repeatedly applies a binary function (a function taking two arguments) to the elements of an iterable, reducing them to a single accumulated result.\n",
    "\n",
    "#Here's a brief explanation of how the reduce() function works:\n",
    "\n",
    "#The binary function is applied cumulatively to the items of the iterable, from left to right.\n",
    "#The accumulated result is carried forward and used as one of the arguments for the next invocation of the binary function.\n",
    "#To use the reduce() function, you need to import it from the functools module:\n",
    "\n",
    "''' from functools import reduce '''\n",
    "\n",
    "#Here's an example of the basic usage of the reduce() function:\n",
    "\n",
    "\n",
    "from functools import reduce\n",
    "\n",
    "# Example binary function: Multiply two numbers\n",
    "def multiply(x, y):\n",
    "    return x * y\n",
    "\n",
    "# List of numbers\n",
    "numbers = [1, 2, 3, 4, 5]\n",
    "\n",
    "# Using reduce() to compute the product of all numbers\n",
    "result = reduce(multiply, numbers)\n",
    "\n",
    "print(\"List of numbers:\", numbers)\n",
    "print(\"Product of all numbers:\", result)"
   ]
  },
  {
   "cell_type": "code",
   "execution_count": 2,
   "id": "25713224-e1b5-4b8f-bf41-957958287c0d",
   "metadata": {},
   "outputs": [
    {
     "name": "stdout",
     "output_type": "stream",
     "text": [
      "List of numbers: [1, 2, 3, 4, 5]\n",
      "Product of all numbers: 120\n"
     ]
    }
   ],
   "source": [
    "'''2. Write a Python program that uses the `reduce()` function to find the product of all elements in a list.'''\n",
    "\n",
    "from functools import reduce\n",
    "\n",
    "# Example binary function: Multiply two numbers\n",
    "def multiply(a, b):\n",
    "    return a * b\n",
    "\n",
    "# List of numbers\n",
    "numbers = [1, 2, 3, 4, 5]\n",
    "\n",
    "# Using reduce() to compute the product of all numbers\n",
    "result = reduce(multiply, numbers)\n",
    "\n",
    "print(\"List of numbers:\", numbers)\n",
    "print(\"Product of all numbers:\", result)"
   ]
  },
  {
   "cell_type": "code",
   "execution_count": 3,
   "id": "8b7fe82c-531d-45e7-bacd-52ca6e784b2f",
   "metadata": {},
   "outputs": [
    {
     "name": "stdout",
     "output_type": "stream",
     "text": [
      "List of numbers: [10, 5, 8, 20, 15]\n",
      "Maximum element: 20\n"
     ]
    }
   ],
   "source": [
    "'''3. Create a Python program that uses `reduce()` to find the maximum element in a list of numbers.'''\n",
    "\n",
    "from functools import reduce\n",
    "\n",
    "# Example binary function: Find the maximum of two numbers\n",
    "def find_max(x, y):\n",
    "    return max(x, y)\n",
    "\n",
    "# List of numbers\n",
    "numbers = [10, 5, 8, 20, 15]\n",
    "\n",
    "# Using reduce() to find the maximum element in the list\n",
    "max_number = reduce(find_max, numbers)\n",
    "\n",
    "print(\"List of numbers:\", numbers)\n",
    "print(\"Maximum element:\", max_number)\n"
   ]
  },
  {
   "cell_type": "code",
   "execution_count": 4,
   "id": "0a195a4a-0be9-44d4-b2fb-060bcf771738",
   "metadata": {},
   "outputs": [
    {
     "name": "stdout",
     "output_type": "stream",
     "text": [
      "List of strings: ['Hello', ', ', 'World', '!']\n",
      "Concatenated string: Hello, World!\n"
     ]
    }
   ],
   "source": [
    "'''4. How can you use the `reduce()` function to concatenate a list of strings into a single string?'''\n",
    "\n",
    "from functools import reduce\n",
    "\n",
    "# Example binary function: Concatenate two strings\n",
    "def concatenate_strings(x, y):\n",
    "    return x + y\n",
    "\n",
    "# List of strings\n",
    "string_list = [\"Hello\", \", \", \"World\", \"!\"]\n",
    "\n",
    "# Using reduce() to concatenate the strings in the list\n",
    "concatenated_string = reduce(concatenate_strings, string_list)\n",
    "\n",
    "print(\"List of strings:\", string_list)\n",
    "print(\"Concatenated string:\", concatenated_string)"
   ]
  },
  {
   "cell_type": "code",
   "execution_count": 6,
   "id": "8e435270-d12b-4dbf-8236-018823c8b176",
   "metadata": {},
   "outputs": [
    {
     "name": "stdin",
     "output_type": "stream",
     "text": [
      "Enter a number:  5\n"
     ]
    },
    {
     "name": "stdout",
     "output_type": "stream",
     "text": [
      "The factorial of 5 is: 120\n"
     ]
    }
   ],
   "source": [
    "'''5. Write a Python program that calculates the factorial of a number using the `reduce()` function.'''\n",
    "\n",
    "from functools import reduce\n",
    "\n",
    "# Example binary function: Multiply two numbers\n",
    "def multiply(x, y):\n",
    "    return x * y\n",
    "\n",
    "# Function to calculate the factorial of a number\n",
    "def factorial(n):\n",
    "    return reduce(multiply, range(1, n + 1), 1)\n",
    "\n",
    "# Taking user input for the number\n",
    "try:\n",
    "    user_input = int(input(\"Enter a number: \"))\n",
    "    \n",
    "    # Calculating the factorial using the reduce function\n",
    "    result = factorial(user_input)\n",
    "\n",
    "    print(f\"The factorial of {user_input} is: {result}\")\n",
    "except ValueError:\n",
    "    print(\"Invalid input. Please enter a valid numeric number.\")"
   ]
  },
  {
   "cell_type": "code",
   "execution_count": 7,
   "id": "19181384-324f-4822-b9c1-0c1d0f2e54e3",
   "metadata": {},
   "outputs": [
    {
     "name": "stdout",
     "output_type": "stream",
     "text": [
      "List of numbers: [20, 30, 40, 50]\n",
      "GCD of the numbers: 10\n"
     ]
    }
   ],
   "source": [
    "'''6. Create a Python program that uses `reduce()` to find the GCD (Greatest Common Divisor) of a list of numbers.'''\n",
    "\n",
    "from functools import reduce\n",
    "from math import gcd\n",
    "\n",
    "# List of numbers\n",
    "numbers = [20, 30, 40, 50]\n",
    "\n",
    "# Using reduce() and math.gcd to find the GCD of the numbers\n",
    "result_gcd = reduce(gcd, numbers)\n",
    "\n",
    "print(\"List of numbers:\", numbers)\n",
    "print(\"GCD of the numbers:\", result_gcd)"
   ]
  },
  {
   "cell_type": "code",
   "execution_count": 1,
   "id": "8dccf7ee-f6c1-48b8-abb0-c4accc886a09",
   "metadata": {},
   "outputs": [
    {
     "name": "stdin",
     "output_type": "stream",
     "text": [
      "Enter a number:  123\n"
     ]
    },
    {
     "name": "stdout",
     "output_type": "stream",
     "text": [
      "The sum of digits in 123 is: 6\n"
     ]
    }
   ],
   "source": [
    "'''7. Write a Python program that uses the `reduce()` function to find the sum of the digits of a given number.'''\n",
    "\n",
    "from functools import reduce\n",
    "\n",
    "# Function to calculate the sum of digits\n",
    "def sum_of_digits(acc, digit):\n",
    "    return acc + int(digit)\n",
    "\n",
    "# Taking user input for the number\n",
    "try:\n",
    "    user_input = int(input(\"Enter a number: \"))\n",
    "    \n",
    "    # Converting the number to a string to iterate over its digits\n",
    "    number_str = str(user_input)\n",
    "    \n",
    "    # Using reduce() to find the sum of digits\n",
    "    result_sum = reduce(sum_of_digits, number_str, 0)\n",
    "\n",
    "    print(f\"The sum of digits in {user_input} is: {result_sum}\")\n",
    "except ValueError:\n",
    "    print(\"Invalid input. Please enter a valid numeric number.\")"
   ]
  },
  {
   "cell_type": "raw",
   "id": "577da82f-f449-4a0d-a807-80d96be6ab97",
   "metadata": {},
   "source": [
    "> Recursion :-"
   ]
  },
  {
   "cell_type": "raw",
   "id": "4bba4563-e54b-48f8-acd0-b083bf1b0362",
   "metadata": {},
   "source": [
    "'''1. Explain the concept of recursion in Python. How does it differ from iteration?'''\n",
    "\n",
    "#Recursion and iteration are two different programming concepts that involve repeatedly executing a set of instructions. Let's explore the concept of recursion first:\n",
    "\n",
    "#A> Recursion:\n",
    "    \n",
    "''' Recursion is a programming technique where a function calls itself in order to solve a problem. In a recursive solution, a problem is broken down into smaller, simpler sub-problems, and the function is applied to these sub-problems. Each recursive call takes the problem closer to a base case where a solution can be directly obtained without further recursion.\n",
    "\n",
    "Key points about recursion:\n",
    "\n",
    "Base Case: A recursive function must have one or more base cases that define the simplest instances of the problem, where the function returns a result without making further recursive calls. The base case prevents the recursion from continuing indefinitely.\n",
    "\n",
    "Divide and Conquer: Recursive functions break down a problem into smaller, similar sub-problems and solve each sub-problem recursively.\n",
    "\n",
    "Here's a simple example of a recursive function that calculates the factorial of a number in Python:'''\n",
    "\n",
    "\n",
    "#def factorial(n):\n",
    "#    if n == 0 or n == 1:\n",
    "#        return 1  # Base case\n",
    "#    else:\n",
    "#        return n * factorial(n - 1)  # Recursive call\n",
    "\n",
    "\n",
    "#B> Iteration:\n",
    "\n",
    "'''Iteration is the process of repeatedly executing a set of statements or a block of code. It involves using loops (such as for or while loops) to repeatedly execute a block of code until a certain condition is met.\n",
    "\n",
    "Key points about iteration:\n",
    "\n",
    "Loop Control: Iteration uses loop constructs to repeatedly execute a block of code based on a loop control variable or condition.\n",
    "\n",
    "Explicit Control: The flow of iteration is controlled explicitly by loop constructs, and there is no automatic mechanism for breaking down a problem into sub-problems.\n",
    "\n",
    "Here's an example of calculating the factorial of a number using iteration in Python:'''\n",
    "\n",
    "\n",
    "#def factorial_iterative(n):\n",
    "#    result = 1\n",
    "#    for i in range(1, n + 1):\n",
    "#        result *= i\n",
    "#    return result\n",
    "\n",
    "\n",
    "\n",
    "#Differences:\n",
    "    \n",
    "'''Flow Control: Recursion relies on the function calling itself and involves implicit control flow, while iteration uses explicit loop constructs for control flow.\n",
    "\n",
    "Memory Usage: Recursion may use more memory because each recursive call adds a new frame to the call stack. \n",
    "Iteration typically uses less memory because it reuses the same stack frame.\n",
    "\n",
    "Readability: Recursive solutions can be more elegant and readable for certain problems, expressing the divide-and-conquer nature of the solution. \n",
    "However, excessive recursion can lead to a stack overflow, and certain problems may be more naturally solved using iteration.\n",
    "\n",
    "In summary, recursion and iteration are both techniques for repeatedly executing a set of instructions, but they differ in their approach to control flow, memory usage, and the nature of problem-solving. \n",
    "Recursion is particularly useful for problems with a natural divide-and-conquer structure, while iteration is more suitable for problems that can be solved with explicit loops.'''"
   ]
  },
  {
   "cell_type": "code",
   "execution_count": 1,
   "id": "750fbb0a-a9fd-4eb8-a544-58cb551f87b1",
   "metadata": {},
   "outputs": [
    {
     "name": "stdin",
     "output_type": "stream",
     "text": [
      "Enter a number:  5\n"
     ]
    },
    {
     "name": "stdout",
     "output_type": "stream",
     "text": [
      "The factorial of 5 is: 120\n"
     ]
    }
   ],
   "source": [
    "'''2. Write a Python program to calculate the factorial of a number using recursion.'''\n",
    "\n",
    "def factorial(n):\n",
    "    if n == 0 or n == 1:\n",
    "        return 1  # Base case\n",
    "    else:\n",
    "        return n * factorial(n - 1)  # Recursive call\n",
    "\n",
    "# Taking user input for the number\n",
    "try:\n",
    "    user_input = int(input(\"Enter a number: \"))\n",
    "    \n",
    "    # Calling the recursive function to calculate the factorial\n",
    "    result = factorial(user_input)\n",
    "\n",
    "    print(f\"The factorial of {user_input} is: {result}\")\n",
    "except ValueError:\n",
    "    print(\"Invalid input. Please enter a valid numeric number.\")"
   ]
  },
  {
   "cell_type": "code",
   "execution_count": 2,
   "id": "e85580df-9a37-4d74-b132-b652405357f4",
   "metadata": {},
   "outputs": [
    {
     "name": "stdin",
     "output_type": "stream",
     "text": [
      "Enter the position (n) to find the nth Fibonacci number:  10\n"
     ]
    },
    {
     "name": "stdout",
     "output_type": "stream",
     "text": [
      "The 10th Fibonacci number is: 34\n"
     ]
    }
   ],
   "source": [
    "'''3. Create a recursive Python function to find the nth Fibonacci number.'''\n",
    "\n",
    "def fibonacci(n):\n",
    "    if n <= 0:\n",
    "        return \"Invalid input. Please enter a positive integer.\"\n",
    "    elif n == 1:\n",
    "        return 0  # First Fibonacci number\n",
    "    elif n == 2:\n",
    "        return 1  # Second Fibonacci number\n",
    "    else:\n",
    "        return fibonacci(n - 1) + fibonacci(n - 2)\n",
    "\n",
    "# Taking user input for the position of the Fibonacci number\n",
    "try:\n",
    "    user_input = int(input(\"Enter the position (n) to find the nth Fibonacci number: \"))\n",
    "    \n",
    "    # Calling the recursive function to find the nth Fibonacci number\n",
    "    result = fibonacci(user_input)\n",
    "\n",
    "    print(f\"The {user_input}th Fibonacci number is: {result}\")\n",
    "except ValueError:\n",
    "    print(\"Invalid input. Please enter a valid positive integer.\")"
   ]
  },
  {
   "cell_type": "code",
   "execution_count": 5,
   "id": "5d0515b8-aba6-4c93-90c3-8a747ad2ed63",
   "metadata": {},
   "outputs": [
    {
     "name": "stdout",
     "output_type": "stream",
     "text": [
      "List of numbers: [1, 2, 3, 4, 5]\n",
      "Sum of the elements: 15\n"
     ]
    }
   ],
   "source": [
    "'''4. Write a recursive Python function to calculate the sum of all elements in a list.'''\n",
    "\n",
    "def recursive_sum(lst):\n",
    "    if not lst:\n",
    "        return 0  # Base case: empty list has a sum of 0\n",
    "    else:\n",
    "        return lst[0] + recursive_sum(lst[1:])  # Recursive case\n",
    "\n",
    "# Example list\n",
    "numbers = [1, 2, 3, 4, 5]\n",
    "\n",
    "# Calling the recursive function to calculate the sum\n",
    "result_sum = recursive_sum(numbers)\n",
    "\n",
    "print(\"List of numbers:\", numbers)\n",
    "print(\"Sum of the elements:\", result_sum)"
   ]
  },
  {
   "cell_type": "code",
   "execution_count": 6,
   "id": "7e097651-9b47-4458-a928-ac46a76ee406",
   "metadata": {
    "jp-MarkdownHeadingCollapsed": true,
    "tags": []
   },
   "outputs": [
    {
     "name": "stdout",
     "output_type": "stream",
     "text": [
      "120\n"
     ]
    }
   ],
   "source": [
    "'''5. How can you prevent a recursive function from running indefinitely, causing a stack overflow error?'''\n",
    "\n",
    "#To prevent a recursive function from running indefinitely and causing a stack overflow error, you should ensure that your recursive function has a well-defined base case and that it approaches the base case in a way that the recursion terminates. \n",
    "#Here are some key considerations:\n",
    "\n",
    "#Base Case: Every recursive function should have a base case. The base case is the condition under which the recursion stops, and the function returns a result without making further recursive calls. It prevents the function from entering an infinite loop.\n",
    "\n",
    "#Progress Toward Base Case: Recursive calls should make progress toward the base case. In other words, the input to the recursive calls should be such that it gets closer to the base case with each call. This ensures that the recursion eventually reaches the base case.\n",
    "\n",
    "#Bounding Conditions: If applicable, incorporate bounding conditions or limiters to prevent excessive recursion. For example, you might check if a parameter value is within a certain range or use memoization to avoid redundant calculations.\n",
    "\n",
    "#Here's an example illustrating these concepts with a recursive function to calculate the factorial:'\n",
    "\n",
    "def factorial(n):\n",
    "    # Base case\n",
    "    if n == 0 or n == 1:\n",
    "        return 1\n",
    "\n",
    "    # Progress toward base case\n",
    "    return n * factorial(n - 1)\n",
    "\n",
    "# Example usage\n",
    "result = factorial(5)\n",
    "print(result)\n",
    "\n",
    "#In this example, the base case is when n is 0 or 1, and the function returns 1. The recursive call with n - 1 ensures progress toward the base case.\n",
    "#It's important to design recursive functions thoughtfully and test them with a range of inputs to ensure that they terminate correctly. \n",
    "#If there's a risk of excessive recursion, consider alternatives such as iteration or tail recursion optimization (which Python's standard recursion depth limit might not handle well)."
   ]
  },
  {
   "cell_type": "code",
   "execution_count": 6,
   "id": "7b7a2368-e5c5-443b-917a-5abae3b81081",
   "metadata": {},
   "outputs": [
    {
     "name": "stdin",
     "output_type": "stream",
     "text": [
      "Enter the first number:  4\n",
      "Enter the second number:  8\n"
     ]
    },
    {
     "name": "stdout",
     "output_type": "stream",
     "text": [
      "The GCD of 4 and 8 is: 4\n"
     ]
    }
   ],
   "source": [
    "'''6. Create a recursive Python function to find the greatest common divisor (GCD) of two numbers using the Euclidean algorithm.'''\n",
    "\n",
    "def euclidean_gcd(a, b):\n",
    "    # Base case\n",
    "    if b == 0:\n",
    "        return a\n",
    "    else:\n",
    "        # Recursive case\n",
    "        return euclidean_gcd(b, a % b)\n",
    "\n",
    "# Taking user input for the two numbers\n",
    "try:\n",
    "    num1 = int(input(\"Enter the first number: \"))\n",
    "    num2 = int(input(\"Enter the second number: \"))\n",
    "    \n",
    "    # Calling the recursive function to find the GCD\n",
    "    result_gcd = euclidean_gcd(num1, num2)\n",
    "\n",
    "    print(f\"The GCD of {num1} and {num2} is: {result_gcd}\")\n",
    "except ValueError:\n",
    "    print(\"Invalid input. Please enter valid numeric numbers.\")"
   ]
  },
  {
   "cell_type": "code",
   "execution_count": 8,
   "id": "3315a713-cfae-4e66-8e02-ee276cce922f",
   "metadata": {},
   "outputs": [
    {
     "name": "stdin",
     "output_type": "stream",
     "text": [
      "Enter a string:  Good Morning\n"
     ]
    },
    {
     "name": "stdout",
     "output_type": "stream",
     "text": [
      "The reversed string is: gninroM dooG\n"
     ]
    }
   ],
   "source": [
    "'''7. Write a recursive Python function to reverse a string.'''\n",
    "\n",
    "def reverse_string(input_str):\n",
    "    # Base case: when the string is empty or has only one character\n",
    "    if len(input_str) <= 1:\n",
    "        return input_str\n",
    "    else:\n",
    "        # Recursive case: reverse the substring excluding the first character\n",
    "        return reverse_string(input_str[1:]) + input_str[0]\n",
    "\n",
    "# Taking user input for the string\n",
    "user_input = input(\"Enter a string: \")\n",
    "\n",
    "# Calling the recursive function to reverse the string\n",
    "result = reverse_string(user_input)\n",
    "\n",
    "print(f\"The reversed string is: {result}\")"
   ]
  },
  {
   "cell_type": "code",
   "execution_count": 9,
   "id": "1d706555-6447-4c98-8ea1-5b2aeccb8085",
   "metadata": {},
   "outputs": [
    {
     "name": "stdin",
     "output_type": "stream",
     "text": [
      "Enter the base (x):  4\n",
      "Enter the exponent (n):  3\n"
     ]
    },
    {
     "name": "stdout",
     "output_type": "stream",
     "text": [
      "4.0^3 is: 64.0\n"
     ]
    }
   ],
   "source": [
    "'''8. Create a recursive Python function to calculate the power of a number (x^n).'''\n",
    "\n",
    "def power(x, n):\n",
    "    # Base case: any number raised to the power of 0 is 1\n",
    "    if n == 0:\n",
    "        return 1\n",
    "    else:\n",
    "        # Recursive case: x^n = x * x^(n-1)\n",
    "        return x * power(x, n - 1)\n",
    "\n",
    "# Taking user input for the base (x) and exponent (n)\n",
    "try:\n",
    "    base = float(input(\"Enter the base (x): \"))\n",
    "    exponent = int(input(\"Enter the exponent (n): \"))\n",
    "    \n",
    "    # Calling the recursive function to calculate the power\n",
    "    result = power(base, exponent)\n",
    "\n",
    "    print(f\"{base}^{exponent} is: {result}\")\n",
    "except ValueError:\n",
    "    print(\"Invalid input. Please enter valid numeric values.\")\n"
   ]
  },
  {
   "cell_type": "code",
   "execution_count": 14,
   "id": "1307b5c0-687b-40d1-9cb1-74bebc3120be",
   "metadata": {},
   "outputs": [
    {
     "name": "stdin",
     "output_type": "stream",
     "text": [
      "Enter a string:  A$2\n"
     ]
    },
    {
     "name": "stdout",
     "output_type": "stream",
     "text": [
      "All permutations of A$2 are:\n",
      "A$2\n",
      "$A2\n",
      "$2A\n",
      "A2$\n",
      "2A$\n",
      "2$A\n"
     ]
    }
   ],
   "source": [
    "'''9. Write a recursive Python function to find all permutations of a given string.'''\n",
    "\n",
    "def generate_permutations(input_str):\n",
    "    if len(input_str) <= 1:\n",
    "        return [input_str]\n",
    "    \n",
    "    # Recursive case: generate permutations for the substring excluding the first character\n",
    "    sub_permutations = generate_permutations(input_str[1:])\n",
    "    \n",
    "    # Insert the first character at different positions in each permutation\n",
    "    result_permutations = []\n",
    "    for perm in sub_permutations:\n",
    "        for i in range(len(perm) + 1):\n",
    "            result_permutations.append(perm[:i] + input_str[0] + perm[i:])\n",
    "    \n",
    "    return result_permutations\n",
    "\n",
    "# Taking user input for the string\n",
    "user_input = input(\"Enter a string: \")\n",
    "\n",
    "# Calling the recursive function to find permutations\n",
    "result = generate_permutations(user_input)\n",
    "\n",
    "print(f\"All permutations of {user_input} are:\")\n",
    "for perm in result:\n",
    "    print(perm)"
   ]
  },
  {
   "cell_type": "code",
   "execution_count": 7,
   "id": "e9f42aee-9c51-404b-bfbc-5ca48a1c54b2",
   "metadata": {},
   "outputs": [
    {
     "name": "stdin",
     "output_type": "stream",
     "text": [
      "Enter a string:  Mom\n"
     ]
    },
    {
     "name": "stdout",
     "output_type": "stream",
     "text": [
      "mom is a palindrome.\n"
     ]
    }
   ],
   "source": [
    "'''10. Write a recursive Python function to check if a string is a palindrome.'''\n",
    "\n",
    "def is_palindrome(input_str):\n",
    "    # Base case: a string with 0 or 1 character is a palindrome\n",
    "    if len(input_str) <= 1:\n",
    "        return True\n",
    "    else:\n",
    "        # Recursive case: check if the first and last characters are equal\n",
    "        return input_str[0] == input_str[-1] and is_palindrome(input_str[1:-1])\n",
    "\n",
    "# Taking user input for the string\n",
    "user_input = input(\"Enter a string: \").lower()\n",
    "\n",
    "# Calling the recursive function to check if it's a palindrome\n",
    "if is_palindrome(user_input):\n",
    "    print(f\"{user_input} is a palindrome.\")\n",
    "else:\n",
    "    print(f\"{user_input} is not a palindrome.\")"
   ]
  },
  {
   "cell_type": "code",
   "execution_count": 8,
   "id": "860d7603-d114-4026-9dcd-51c658803e46",
   "metadata": {},
   "outputs": [
    {
     "name": "stdout",
     "output_type": "stream",
     "text": [
      "All combinations of [1, 2, 3] are:\n",
      "[]\n",
      "[3]\n",
      "[2]\n",
      "[2, 3]\n",
      "[1]\n",
      "[1, 3]\n",
      "[1, 2]\n",
      "[1, 2, 3]\n"
     ]
    }
   ],
   "source": [
    "'''11. Create a recursive Python function to generate all possible combinations of a list of elements.'''\n",
    "\n",
    "def generate_combinations(elements):\n",
    "    if not elements:\n",
    "        return [[]]  # Base case: an empty list has one combination, the empty set\n",
    "    else:\n",
    "        # Recursive case: generate combinations for the sublist excluding the first element\n",
    "        sub_combinations = generate_combinations(elements[1:])\n",
    "        \n",
    "        # Combine the first element with each combination of the sublist\n",
    "        result_combinations = sub_combinations + [ [elements[0]] + combo for combo in sub_combinations ]\n",
    "        \n",
    "        return result_combinations\n",
    "\n",
    "# Example list\n",
    "input_list = [1, 2, 3]\n",
    "\n",
    "# Calling the recursive function to generate combinations\n",
    "result = generate_combinations(input_list)\n",
    "\n",
    "print(f\"All combinations of {input_list} are:\")\n",
    "for combo in result:\n",
    "    print(combo)"
   ]
  },
  {
   "cell_type": "raw",
   "id": "5d32d98e-9194-421b-9184-5a0f511960b4",
   "metadata": {},
   "source": [
    "> Basics of Functions:"
   ]
  },
  {
   "cell_type": "raw",
   "id": "7616c03a-1b9f-4766-8fb3-aa5605592c0e",
   "metadata": {},
   "source": [
    "'''1. What is a function in Python, and why is it used?'''\n",
    "\n",
    "In Python, a function is a block of reusable code that performs a specific task or a set of tasks. Functions allow you to encapsulate logic into modular units, making your code more organized, readable, and maintainable. Here are some key points about functions in Python and why they are used:\n",
    "\n",
    "Modularity: Functions help break down complex programs into smaller, manageable units. Each function can perform a specific task, and these tasks can be combined to achieve more complex functionalities.\n",
    "\n",
    "Reusability: Once defined, functions can be reused multiple times throughout your code. This eliminates the need to duplicate code, promoting code reuse and reducing redundancy.\n",
    "\n",
    "Abstraction: Functions provide a level of abstraction by hiding the implementation details of a particular task. Users of the function only need to know its purpose and how to use it, without needing to understand its internal workings.\n",
    "\n",
    "Readability: Functions make code more readable by giving meaningful names to specific operations or tasks. This improves code comprehension and makes it easier for others (and your future self) to understand the code.\n",
    "\n",
    "Debugging and Testing: Functions facilitate debugging and testing by isolating specific functionalities. When a function behaves unexpectedly, you can focus on that function's implementation without being distracted by other parts of the code.\n",
    "\n",
    "Organizing Code: Functions help organize code by grouping related operations together. This improves code structure and makes it easier to navigate and maintain larger codebases.\n",
    "\n",
    "In summary, functions in Python are essential for writing clean, modular, and maintainable code. They promote code reuse, readability, and abstraction, ultimately leading to more efficient development and easier maintenance of software projects."
   ]
  },
  {
   "cell_type": "code",
   "execution_count": 14,
   "id": "e1e82634-922a-4485-b821-278ef0a558d0",
   "metadata": {},
   "outputs": [
    {
     "name": "stdout",
     "output_type": "stream",
     "text": [
      "AREA Of Rectangle is : 40\n"
     ]
    }
   ],
   "source": [
    "'''2. How do you define a function in Python? Provide an example.'''\n",
    "\n",
    "#In Python, you can define a function using the def keyword followed by the function name, parentheses (), and a colon :. The body of the function is then indented and contains the code to be executed when the function is called. Here's the syntax to define a function:\n",
    "\n",
    "#def function_name(parameter1, parameter2, ...):\n",
    "    # Function body\n",
    "    # Code to be executed\n",
    "  # Optionally, return a value using the return statement\n",
    "\n",
    "#Here's an example of defining a function in Python that calculates the area of a rectangle:\n",
    "\n",
    "\n",
    "def calculate_rectangle_area(length, width):\n",
    "    \"\"\"\n",
    "    Calculate the area of a rectangle.\n",
    "\n",
    "    Parameters:\n",
    "    length (float): The length of the rectangle.\n",
    "    width (float): The width of the rectangle.\n",
    "\n",
    "    Returns:\n",
    "    float: The area of the rectangle.\n",
    "    \"\"\"\n",
    "    area = length * width\n",
    "    return area\n",
    "\n",
    "#Calling Function with parameters\n",
    "calculate_rectangle_area(5,8)\n",
    "print(\"AREA Of Rectangle is :\", area)\n",
    "\n",
    "  \n",
    "#In this example:\n",
    "\n",
    "#The function is named calculate_rectangle_area.\n",
    "#It takes two parameters: length and width.\n",
    "#The function body calculates the area of the rectangle using the formula length * width.\n",
    "#The return statement returns the calculated area.\n",
    "#Optionally, a docstring is provided to document the purpose, parameters, and return value of the function.\n",
    "#You can call this function with specific values for length and width to calculate the area of a rectangle."
   ]
  },
  {
   "cell_type": "raw",
   "id": "4838f8dd-74e7-45ce-9441-e496e7992d0b",
   "metadata": {},
   "source": [
    "'''3. Explain the difference between a function definition and a function call.'''\n",
    "\n",
    "A) Function Definition:\n",
    "\n",
    "A function definition is the process of creating a function in Python.\n",
    "It specifies the name of the function, the parameters it accepts (if any), and the code block that defines the behavior of the function.\n",
    "The syntax for defining a function includes the def keyword followed by the function name, parameters (enclosed in parentheses), and a colon : to indicate the start of the function body.\n",
    "Inside the function body, you write the code that should execute when the function is called.\n",
    "\n",
    "Example:\n",
    "\n",
    "def greet(name):\n",
    "    print(\"Hello,\", name)\n",
    "In the above example, greet is the function name, and it accepts one parameter name. The function body contains a single print statement.\n",
    "\n",
    "\n",
    "B) Function Call:\n",
    "\n",
    "A function call is the process of invoking/executing a function in Python.\n",
    "When you call a function, you're instructing the program to execute the code defined within the function definition.\n",
    "To call a function, you use the function's name followed by parentheses (), optionally passing arguments (values) for any parameters defined in the function.\n",
    "\n",
    "Example:\n",
    "\n",
    "greet(\"Alice\")\n",
    "\n",
    "In the above example, greet(\"Alice\") is a function call. It invokes the greet function with the argument \"Alice\". This results in the function printing \"Hello, Alice\".\n",
    "In summary, a function definition is the creation of a function, specifying its name, parameters, and behavior. A function call is the execution of that function, triggering the code defined within its body to run, possibly with arguments passed to it. Without function calls, the code inside the function definitions would not be executed, and the functions would not serve any purpose."
   ]
  },
  {
   "cell_type": "code",
   "execution_count": 15,
   "id": "c3cf77ff-b514-4b28-bd28-965cdbbf58ff",
   "metadata": {},
   "outputs": [
    {
     "name": "stdout",
     "output_type": "stream",
     "text": [
      "Sum of two numbers is : 10\n"
     ]
    }
   ],
   "source": [
    "'''4. Write a Python program that defines a function to calculate the sum of two numbers and then calls the function.'''\n",
    "#Function Define\n",
    "def calc_sum(a,b):\n",
    "    sum = a+b\n",
    "    return sum\n",
    "\n",
    "#Function Call\n",
    "Sum_Numbers = calc_sum(4,6)\n",
    "print(\"Sum of two numbers is :\", Sum_Numbers)"
   ]
  },
  {
   "cell_type": "raw",
   "id": "e1b25bdb-604d-4f75-8274-6da3d6a095b9",
   "metadata": {},
   "source": [
    "'''5. What is a function signature, and what information does it typically include?'''\n",
    "\n",
    "# A function signature is a concise representation of a function's interface, summarizing its key characteristics. It typically includes the following information:\n",
    "\n",
    "# Function Name: The name by which the function is identified and called within a program.\n",
    "\n",
    "# Parameters: The input variables or values that the function accepts, if any. Each parameter is usually described by its name and data type.\n",
    "\n",
    "# Return Type: The data type of the value returned by the function, if any. Functions may return a value of a specific data type or None if no value is returned.\n",
    "\n",
    "# Exception(s): Any exceptions that the function may raise during its execution, along with their conditions and error messages.\n",
    "\n",
    "# Here's an example of a function signature:\n",
    "\n",
    "\n",
    "# def calculate_rectangle_area(length: float, width: float) -> float:\n",
    "# In this function signature:\n",
    "\n",
    "# Function Name: calculate_rectangle_area\n",
    "# Parameters: length and width, both of type float\n",
    "# Return Type: float (the area of the rectangle)\n",
    "# No Exceptions: The function does not raise any exceptions in this example.\n",
    "# Function signatures are useful for documenting and understanding the purpose and usage of functions within a codebase. \n",
    "# They provide a quick reference for developers to understand what inputs a function expects, what it returns, and any potential side effects or exceptions it may have. \n",
    "# Additionally, function signatures can be helpful when using integrated development environments (IDEs) that provide code completion and type inference features.\n"
   ]
  },
  {
   "cell_type": "code",
   "execution_count": 17,
   "id": "faba8627-ca33-42de-8476-443cc9e9c3a3",
   "metadata": {},
   "outputs": [
    {
     "name": "stdout",
     "output_type": "stream",
     "text": [
      "Product: 15\n"
     ]
    }
   ],
   "source": [
    "'''6. Create a Python function that takes two arguments and returns their product.'''\n",
    "\n",
    "def product(x, y):\n",
    "    \"\"\"\n",
    "    Calculate the product of two numbers.\n",
    "\n",
    "    Parameters:\n",
    "    x (float): The first number.\n",
    "    y (float): The second number.\n",
    "\n",
    "    Returns:\n",
    "    float: The product of x and y.\n",
    "    \"\"\"\n",
    "    return x * y\n",
    "\n",
    "# Example usage\n",
    "result = product(5, 3)\n",
    "print(\"Product:\", result)"
   ]
  },
  {
   "cell_type": "raw",
   "id": "afe85ff8-70c6-43a9-be39-2b7b8ce530e9",
   "metadata": {},
   "source": [
    "> Function Parameters and Arguments :"
   ]
  },
  {
   "cell_type": "raw",
   "id": "a8ec78bc-fb08-4669-9ef4-d62d4f1df940",
   "metadata": {},
   "source": [
    "'''1. Explain the concepts of formal parameters and actual arguments in Python functions.'''\n",
    "\n",
    "In Python functions, there are two important concepts related to passing data into functions: formal parameters and actual arguments.\n",
    "\n",
    "A) Formal Parameters:\n",
    "\n",
    "Formal parameters are the placeholders or variables used in the function definition to represent the data that the function expects to receive when it is called.\n",
    "These parameters are listed inside the parentheses of the function definition and act as local variables within the function's scope.\n",
    "Formal parameters serve as the interface between the caller of the function and the function itself.\n",
    "They are essentially placeholders for the actual data that will be passed to the function when it is called.\n",
    "Formal parameters are defined by the function's author and represent the expected inputs to the function.\n",
    "\n",
    "Example:\n",
    "\n",
    "def add(x, y):\n",
    "    return x + y\n",
    "\n",
    "In the above function definition, x and y are formal parameters representing the two numbers that will be added together.\n",
    "\n",
    "B) Actual Arguments (or Arguments):\n",
    "\n",
    "Actual arguments (often referred to simply as arguments) are the actual data or values passed to a function when it is called.\n",
    "These are the concrete values that are substituted for the formal parameters when the function is executed.\n",
    "Actual arguments are provided by the caller of the function and can be variables, literals, expressions, or even the result of other function calls.\n",
    "When calling a function, the actual arguments are placed inside the parentheses and separated by commas.\n",
    "\n",
    "Example:\n",
    "\n",
    "result = add(3, 5)\n",
    "\n",
    "In the above function call, 3 and 5 are actual arguments passed to the add function. They will be substituted for x and y, respectively, when the function is executed.\n",
    "In summary, formal parameters are placeholders defined in the function's signature, representing the expected inputs to the function. Actual arguments are the concrete values provided by the caller of the function, which are substituted for the formal parameters when the function is called. The distinction between these concepts helps clarify the role of parameters and arguments in the function's behavior and usage.\n",
    "\n"
   ]
  },
  {
   "cell_type": "code",
   "execution_count": 1,
   "id": "52fe1057-32ac-4a05-8ac0-f928f83cbcaf",
   "metadata": {},
   "outputs": [
    {
     "name": "stdout",
     "output_type": "stream",
     "text": [
      "Hello, Alice\n",
      "Hello, World\n"
     ]
    }
   ],
   "source": [
    "'''2. Write a Python program that defines a function with default argument values.'''\n",
    "\n",
    "def greet(name=\"World\"):\n",
    "    \"\"\"\n",
    "    Greets a person with the provided name. If no name is provided, greets the world.\n",
    "\n",
    "    Parameters:\n",
    "    name (str): The name of the person to greet. Defaults to \"World\" if not provided.\n",
    "\n",
    "    Returns:\n",
    "    None\n",
    "    \"\"\"\n",
    "    print(\"Hello,\", name)\n",
    "\n",
    "# Example usage\n",
    "greet(\"Alice\")  \n",
    "greet()         "
   ]
  },
  {
   "cell_type": "code",
   "execution_count": 2,
   "id": "21c0f435-9adf-42fc-ac1a-949d3d003a69",
   "metadata": {},
   "outputs": [
    {
     "name": "stdout",
     "output_type": "stream",
     "text": [
      "Hi, Alice\n",
      "Bonjour, Bob\n",
      "Hello, Charlie\n"
     ]
    }
   ],
   "source": [
    "'''3. How do you use keyword arguments in Python function calls? Provide an example.'''\n",
    "\n",
    "#In Python, you can use keyword arguments in function calls to specify arguments by their parameter names, rather than relying on their positional order. \n",
    "#This provides more clarity and flexibility when calling functions, especially for functions with multiple parameters. Here's how you can use keyword arguments in Python function calls:\n",
    "\n",
    "def greet(name, greeting=\"Hello\"):\n",
    "    \"\"\"\n",
    "    Greets a person with the provided name using the specified greeting.\n",
    "\n",
    "    Parameters:\n",
    "    name (str): The name of the person to greet.\n",
    "    greeting (str): The greeting message to use. Defaults to \"Hello\" if not provided.\n",
    "\n",
    "    Returns:\n",
    "    None\n",
    "    \"\"\"\n",
    "    print(greeting + \",\", name)\n",
    "\n",
    "# Example usage using keyword arguments\n",
    "greet(name=\"Alice\", greeting=\"Hi\")  # Output: Hi, Alice\n",
    "greet(greeting=\"Bonjour\", name=\"Bob\")  # Output: Bonjour, Bob\n",
    "greet(name=\"Charlie\")  # Output: Hello, Charlie (using default greeting)\n"
   ]
  },
  {
   "cell_type": "code",
   "execution_count": 3,
   "id": "5322a570-4861-4660-939f-9d30644e2818",
   "metadata": {},
   "outputs": [
    {
     "name": "stdout",
     "output_type": "stream",
     "text": [
      "Sum: 15\n",
      "Sum: 60\n",
      "Sum: 10.5\n"
     ]
    }
   ],
   "source": [
    "'''4. Create a Python function that accepts a variable number of arguments and calculates their sum.'''\n",
    "\n",
    "def calculate_sum(*args):\n",
    "    \"\"\"\n",
    "    Calculates the sum of all arguments passed to the function.\n",
    "\n",
    "    Parameters:\n",
    "    *args (float or int): Variable number of positional arguments.\n",
    "\n",
    "    Returns:\n",
    "    float or int: The sum of all arguments.\n",
    "    \"\"\"\n",
    "    total = 0\n",
    "    for num in args:\n",
    "        total += num\n",
    "    return total\n",
    "\n",
    "# Example usage\n",
    "result = calculate_sum(1, 2, 3, 4, 5)\n",
    "print(\"Sum:\", result)  # Output: Sum: 15\n",
    "\n",
    "result = calculate_sum(10, 20, 30)\n",
    "print(\"Sum:\", result)  # Output: Sum: 60\n",
    "\n",
    "result = calculate_sum(2.5, 3.5, 4.5)\n",
    "print(\"Sum:\", result)  # Output: Sum: 10.5"
   ]
  },
  {
   "cell_type": "raw",
   "id": "15bfce62-cdaf-40a5-bb32-8bd3eacf47e4",
   "metadata": {},
   "source": [
    "'''5. What is the purpose of the `*args` and `**kwargs` syntax in function parameter lists?'''\n",
    "\n",
    "The *args and **kwargs syntax in function parameter lists serve the purpose of allowing functions to accept a variable number of arguments, both positional and keyword arguments, respectively. Here's a brief explanation of each:\n",
    "\n",
    "A) *args (Arbitrary Positional Arguments):\n",
    "\n",
    "The *args syntax in a function parameter list allows the function to accept an arbitrary number of positional arguments.\n",
    "When you use *args in a function definition, it collects all the positional arguments that are passed to the function into a tuple.\n",
    "This allows you to create functions that can handle a variable number of arguments without explicitly specifying them in the function definition.\n",
    "Example:\n",
    "\n",
    "def my_function(*args):\n",
    "    for arg in args:\n",
    "        print(arg)\n",
    "\n",
    "my_function(1, 2, 3)  # Output: 1\\n2\\n3\n",
    "my_function('a', 'b', 'c', 'd')  # Output: a\\nb\\nc\\nd\n",
    "\n",
    "B) **kwargs (Arbitrary Keyword Arguments):\n",
    "\n",
    "The **kwargs syntax in a function parameter list allows the function to accept an arbitrary number of keyword arguments.\n",
    "When you use **kwargs in a function definition, it collects all the keyword arguments (passed as key-value pairs) into a dictionary.\n",
    "This allows you to create functions that can handle a variable number of keyword arguments without explicitly specifying them in the function definition.\n",
    "Example:\n",
    "\n",
    "def my_function(**kwargs):\n",
    "    for key, value in kwargs.items():\n",
    "        print(key, \":\", value)\n",
    "\n",
    "my_function(name='Alice', age=30)  # Output: name : Alice\\nage : 30\n",
    "my_function(country='USA', city='New York', language='English')  # Output: country : USA\\ncity : New York\\nlanguage : English\n",
    "\n",
    "Using *args and **kwargs provides flexibility and allows you to create more generic and versatile functions that can handle a wide range of input scenarios. \n",
    "They are particularly useful when you want to create functions that can accept any number of arguments without knowing the exact number or names of the arguments in advance."
   ]
  },
  {
   "cell_type": "raw",
   "id": "8ecf321d-a0cb-4c79-bd7d-8e0b31a8ddb3",
   "metadata": {},
   "source": [
    "> Return Values and Scoping :"
   ]
  },
  {
   "cell_type": "raw",
   "id": "3e1548b6-2c09-4479-b8eb-48706b40ca25",
   "metadata": {},
   "source": [
    "'''1. Describe the role of the `return` statement in Python functions and provide examples.'''\n",
    "\n",
    "In Python, the return statement is used to exit a function and optionally return a value back to the caller. It allows functions to compute a result and pass it back to the code that called the function. Here's an overview of the role of the return statement in Python functions:\n",
    "\n",
    "A) Exiting the Function: When a return statement is encountered in a function, it immediately exits the function's execution and returns control to the caller. \n",
    "Any code after the return statement within the function is not executed.\n",
    "\n",
    "B) Returning a Value: The return statement can optionally return a value or expression back to the caller. \n",
    "This value can be of any data type, including integers, floats, strings, lists, dictionaries, or even other functions.\n",
    "\n",
    "C) Multiple Return Statements: A function can have multiple return statements, each returning a different value based on certain conditions. \n",
    "Only one return statement is executed per function call, depending on the conditions met.\n",
    "\n",
    "D) Returning None: If no return statement is encountered in a function or if the return statement has no value associated with it, the function returns None implicitly.\n",
    "\n",
    "Here are some examples demonstrating the use of the return statement in Python functions:\n",
    "\n",
    "1) Returning a Single Value:\n",
    "\n",
    "def add(x, y):\n",
    "    return x + y\n",
    "\n",
    "result = add(3, 5)  # result will be 8\n",
    "\n",
    "\n",
    "\n",
    "2) Returning Multiple Values as a Tuple:\n",
    "\n",
    "def divide(dividend, divisor):\n",
    "    quotient = dividend // divisor\n",
    "    remainder = dividend % divisor\n",
    "    return quotient, remainder\n",
    "\n",
    "q, r = divide(10, 3)  # q will be 3, r will be 1\n",
    "\n",
    "\n",
    "3) Returning None Explicitly:\n",
    "\n",
    "def greet(name):\n",
    "    if name:\n",
    "        return \"Hello, \" + name\n",
    "    else:\n",
    "        return None\n",
    "\n",
    "message = greet(\"Alice\")  # message will be \"Hello, Alice\"\n",
    "\n",
    "\n",
    "4) Implicitly Returning None:\n",
    "\n",
    "def print_message(message):\n",
    "    print(message)\n",
    "    # No return statement, function implicitly returns None\n",
    "\n",
    "result = print_message(\"Hello, World\")  # result will be None\n",
    "\n",
    "\n",
    "5) Conditional Return Statements:\n",
    "\n",
    "def absolute_value(x):\n",
    "    if x >= 0:\n",
    "        return x\n",
    "    else:\n",
    "        return -x\n",
    "\n",
    "result = absolute_value(-5)  # result will be 5\n",
    "\n",
    "Overall, the return statement is crucial in Python functions as it allows functions to produce output and pass information back to the code that called them, enabling modularity and code reuse."
   ]
  },
  {
   "cell_type": "raw",
   "id": "deaf8d02-a0a1-4aa7-9d07-235597656c67",
   "metadata": {},
   "source": [
    "'''2. Explain the concept of variable scope in Python, including local and global variables.'''\n",
    "\n",
    "Variable scope in Python refers to the accessibility or visibility of variables within different parts of a program. It determines where in the code a variable can be referenced or modified. Python has two main types of variable scope: local scope and global scope.\n",
    "\n",
    "A) Local Scope:\n",
    "\n",
    "Variables defined within a function have local scope. They are accessible only within the function in which they are defined.\n",
    "Local variables are created when the function is called and cease to exist when the function completes execution.\n",
    "These variables are not accessible from outside the function.\n",
    "\n",
    "Example:\n",
    "\n",
    "def my_function():\n",
    "    x = 10  # Local variable\n",
    "    print(\"Inside function:\", x)\n",
    "\n",
    "my_function()  # Output: Inside function: 10\n",
    "# print(x)  # This would raise a NameError because x is not defined outside the function\n",
    "\n",
    "\n",
    "\n",
    "B) Global Scope:\n",
    "\n",
    "Variables defined outside of any function or in the global scope have global scope. They are accessible from anywhere within the program.\n",
    "Global variables are created when the program starts and exist until the program terminates.\n",
    "They can be accessed, modified, or reassigned from anywhere in the program.\n",
    "Example:\n",
    "\n",
    "y = 20  # Global variable\n",
    "\n",
    "def my_function():\n",
    "    print(\"Inside function:\", y)\n",
    "\n",
    "my_function()                  # Output: Inside function: 20\n",
    "print(\"Outside function:\", y)  # Output: Outside function: 20\n",
    "\n",
    "\n",
    "\n",
    "C) Shadowing:\n",
    "\n",
    "If a variable with the same name is defined both locally and globally, the local variable shadows the global variable within the local scope.\n",
    "The local variable takes precedence over the global variable within the function where it is defined.\n",
    "Example:\n",
    "\n",
    "z = 30  # Global variable\n",
    "\n",
    "def my_function():\n",
    "    z = 40  # Local variable (shadows the global variable)\n",
    "    print(\"Inside function:\", z)\n",
    "\n",
    "my_function()                  # Output: Inside function: 40\n",
    "print(\"Outside function:\", z)  # Output: Outside function: 30\n",
    "\n",
    "In summary, local variables have scope limited to the function in which they are defined, while global variables have scope throughout the entire program. \n",
    "Understanding variable scope is essential for writing clear and maintainable code and for avoiding unexpected behavior due to variable shadowing or unintended modifications."
   ]
  },
  {
   "cell_type": "code",
   "execution_count": 1,
   "id": "663595cd-fe6c-4441-923e-ead240eca3a0",
   "metadata": {},
   "outputs": [
    {
     "name": "stdout",
     "output_type": "stream",
     "text": [
      "Outside function (before modification): 10\n",
      "Inside function: 10\n",
      "Modified global_var inside function: 20\n",
      "Outside function (after modification): 20\n"
     ]
    }
   ],
   "source": [
    "'''3. Write a Python program that demonstrates the use of global variables within functions.'''\n",
    "\n",
    "# Global variable\n",
    "global_var = 10\n",
    "\n",
    "def my_function():\n",
    "    # Accessing the global variable\n",
    "    print(\"Inside function:\", global_var)\n",
    "\n",
    "def modify_global():\n",
    "    # Modifying the global variable\n",
    "    global global_var\n",
    "    global_var = 20\n",
    "    print(\"Modified global_var inside function:\", global_var)\n",
    "\n",
    "# Accessing the global variable outside the function\n",
    "print(\"Outside function (before modification):\", global_var)\n",
    "\n",
    "# Calling the function that accesses the global variable\n",
    "my_function()  \n",
    "\n",
    "# Modifying the global variable inside the function\n",
    "modify_global()  \n",
    "\n",
    "# Accessing the modified global variable outside the function\n",
    "print(\"Outside function (after modification):\", global_var)  "
   ]
  },
  {
   "cell_type": "code",
   "execution_count": 2,
   "id": "cc80afb5-3a22-4fa0-921a-9cac2f3daf41",
   "metadata": {},
   "outputs": [
    {
     "name": "stdout",
     "output_type": "stream",
     "text": [
      "Factorial of 5 is 120\n"
     ]
    }
   ],
   "source": [
    "'''4. Create a Python function that calculates the factorial of a number and returns it.'''\n",
    "\n",
    "def factorial(n):\n",
    "    \"\"\"\n",
    "    Calculate the factorial of a non-negative integer.\n",
    "\n",
    "    Parameters:\n",
    "    n (int): The number for which factorial is to be calculated.\n",
    "\n",
    "    Returns:\n",
    "    int: The factorial of n.\n",
    "    \"\"\"\n",
    "    if n < 0:\n",
    "        raise ValueError(\"Factorial is not defined for negative numbers.\")\n",
    "    if n == 0:\n",
    "        return 1\n",
    "    result = 1\n",
    "    for i in range(1, n + 1):\n",
    "        result *= i\n",
    "    return result\n",
    "\n",
    "# Example usage\n",
    "number = 5\n",
    "fact = factorial(number)\n",
    "print(\"Factorial of\", number, \"is\", fact)  "
   ]
  },
  {
   "cell_type": "code",
   "execution_count": 2,
   "id": "89b91568-9b00-4f6b-88e5-37658496dc8b",
   "metadata": {},
   "outputs": [
    {
     "name": "stdout",
     "output_type": "stream",
     "text": [
      "Outside function: 10\n",
      "Inside function: 10\n"
     ]
    }
   ],
   "source": [
    "'''5. How can you access variables defined outside a function from within the function?'''\n",
    "\n",
    "#In Python, you can access variables defined outside a function from within the function by using them directly. However, there are a few important considerations to keep in mind:\n",
    "\n",
    "#Global Variables: Variables defined outside of any function have global scope, meaning they can be accessed from anywhere in the program, including within functions.\n",
    "\n",
    "#Using Global Keyword: If you want to modify a global variable from within a function, you need to use the global keyword to indicate that the variable should be treated as a global variable within the function.\n",
    "\n",
    "#Here's a simple example demonstrating how to access variables defined outside a function from within the function:\n",
    "\n",
    "\n",
    "# Global variable\n",
    "global_var = 10\n",
    "\n",
    "def my_function():\n",
    "    # Accessing the global variable\n",
    "    print(\"Inside function:\", global_var)\n",
    "\n",
    "# Accessing the global variable outside the function\n",
    "print(\"Outside function:\", global_var)\n",
    "\n",
    "# Calling the function\n",
    "my_function()  # Output: Inside function: 10\n",
    "\n",
    "#In this example:\n",
    "\n",
    "#The global_var variable is defined outside of any function and has global scope.\n",
    "#The my_function() function accesses the global variable global_var and prints its value.\n",
    "#Outside the function, the global variable global_var is also accessed and printed.\n",
    "#Remember that while it's possible to access and modify global variables from within functions,it's generally considered better practice to pass variables as arguments to functions or return values from functions, as it makes the code more modular and easier to understand. \n",
    "#Using global variables excessively can lead to code that is harder to maintain and debug.\n"
   ]
  },
  {
   "cell_type": "raw",
   "id": "da3a550c-546d-4a32-8d92-e9cf6f753bee",
   "metadata": {},
   "source": [
    "> Lambda Functions and Higher-Order Functions:"
   ]
  },
  {
   "cell_type": "raw",
   "id": "7d1389db-1dfa-40e9-b099-971eb5cd81e5",
   "metadata": {},
   "source": [
    "'''1. What are lambda functions in Python, and when are they typically used?'''\n",
    "\n",
    "In Python, a lambda function is a small anonymous function defined using the lambda keyword. Lambda functions are used for creating simple, one-line functions without a formal function definition. They are often used in situations where a function is needed for a short duration or where a function is required as an argument to another function.\n",
    "\n",
    "Key characteristics of lambda functions:\n",
    "\n",
    "Anonymous: Lambda functions are anonymous, meaning they don't have a name like regular functions defined with the def keyword.\n",
    "\n",
    "Single Expression: Lambda functions can only contain a single expression. They are typically used for short, simple operations.\n",
    "\n",
    "Syntax: The syntax of a lambda function is lambda arguments: expression, where arguments is a comma-separated list of input parameters (similar to the parameters of a regular function) and expression is the operation to be performed.\n",
    "\n",
    "Here's a simple example demonstrating the syntax and usage of lambda functions:\n",
    "\n",
    "\n",
    "# Regular function to add two numbers\n",
    "def add(x, y):\n",
    "    return x + y\n",
    "\n",
    "# Equivalent lambda function\n",
    "add_lambda = lambda x, y: x + y\n",
    "\n",
    "# Using the lambda function\n",
    "result = add_lambda(3, 5)  # Output: 8\n",
    "print(\"Result:\", result)\n",
    "\n",
    "\n",
    "Lambda functions are typically used in the following scenarios:\n",
    "\n",
    "Anonymous Functions: When you need a quick function for a short duration and don't want to define a formal function using the def keyword.\n",
    "\n",
    "Functional Programming: Lambda functions are commonly used in functional programming paradigms where functions are treated as first-class citizens and can be passed as arguments to other functions.\n",
    "\n",
    "Inline Functions: When you need to define a simple function inline, such as in list comprehensions, filtering, mapping, sorting, or reducing operations.\n",
    "\n",
    "Here's an example demonstrating the usage of lambda functions in sorting a list of tuples based on the second element:\n",
    "\n",
    "\n",
    "data = [(1, 5), (3, 2), (2, 7), (4, 3)]\n",
    "\n",
    "# Sorting the list based on the second element of each tuple\n",
    "sorted_data = sorted(data, key=lambda x: x[1])\n",
    "\n",
    "print(\"Sorted Data:\", sorted_data)  # Output: Sorted Data: [(3, 2), (4, 3), (1, 5), (2, 7)]\n",
    "\n",
    "\n",
    "Lambda functions provide a concise and convenient way to define simple functions inline without the need for a formal function definition. \n",
    "However, they should be used judiciously and sparingly, especially in cases where readability and maintainability of the code might be compromised."
   ]
  },
  {
   "cell_type": "code",
   "execution_count": 4,
   "id": "ee6bf758-3307-42c6-9ba0-c3f556284399",
   "metadata": {},
   "outputs": [
    {
     "name": "stdout",
     "output_type": "stream",
     "text": [
      "Sorted Data: [(3, 2), (4, 3), (1, 5), (2, 7)]\n"
     ]
    }
   ],
   "source": [
    "'''2. Write a Python program that uses lambda functions to sort a list of tuples based on the second element.'''\n",
    "\n",
    "# List of tuples\n",
    "data = [(1, 5), (3, 2), (2, 7), (4, 3)]\n",
    "\n",
    "# Sorting the list based on the second element of each tuple\n",
    "sorted_data = sorted(data, key=lambda x: x[1])\n",
    "\n",
    "# Displaying the sorted list\n",
    "print(\"Sorted Data:\", sorted_data)"
   ]
  },
  {
   "cell_type": "raw",
   "id": "a8cd4d45-ee20-45c2-81b1-133b7109d9ec",
   "metadata": {},
   "source": [
    "'''3. Explain the concept of higher-order functions in Python, and provide an example.'''\n",
    "\n",
    "In Python, a higher-order function is a function that can accept other functions as arguments or return functions as results. \n",
    "In other words, it treats functions as first-class citizens, allowing them to be manipulated and passed around just like any other data type.\n",
    "\n",
    "Here are some key points about higher-order functions:\n",
    "\n",
    "1. Functions as Arguments: Higher-order functions can take one or more functions as arguments. These functions can then be called or used within the body of the higher-order function.\n",
    "\n",
    "2. Functions as Return Values: Higher-order functions can also return functions as their result. These returned functions can then be assigned to variables, called directly, or passed as arguments to other functions.\n",
    "\n",
    "3. Function Composition: Higher-order functions enable function composition, where the output of one function is passed as input to another function.\n",
    "\n",
    "Higher-order functions are commonly used in functional programming paradigms and are particularly useful for creating reusable and modular code.\n",
    "\n",
    "Here's a simple example of a higher-order function in Python:\n",
    "\n",
    "\n",
    "def apply_operation(operation, x, y):\n",
    "    \"\"\"\n",
    "    Apply the given operation to the given arguments.\n",
    "\n",
    "    Parameters:\n",
    "    operation (function): The operation to be applied.\n",
    "    x (int): The first operand.\n",
    "    y (int): The second operand.\n",
    "\n",
    "    Returns:\n",
    "    int: The result of applying the operation to x and y.\n",
    "    \"\"\"\n",
    "    return operation(x, y)\n",
    "\n",
    "def add(x, y):\n",
    "    \"\"\"Add two numbers.\"\"\"\n",
    "    return x + y\n",
    "\n",
    "def subtract(x, y):\n",
    "    \"\"\"Subtract one number from another.\"\"\"\n",
    "    return x - y\n",
    "\n",
    "# Using the higher-order function with different operations\n",
    "result_add = apply_operation(add, 5, 3)  # Equivalent to add(5, 3)\n",
    "print(\"Result of addition:\", result_add)  # Output: Result of addition: 8\n",
    "\n",
    "result_subtract = apply_operation(subtract, 5, 3)  # Equivalent to subtract(5, 3)\n",
    "print(\"Result of subtraction:\", result_subtract)  # Output: Result of subtraction: 2\n",
    "\n",
    "\n",
    "\n",
    "In this example:\n",
    "\n",
    "The apply_operation function is a higher-order function that takes an operation (another function), along with two operands (x and y), and applies the operation to the operands.\n",
    "The add and subtract functions are simple functions that perform addition and subtraction, respectively.\n",
    "The apply_operation function is called with different operations (add and subtract), demonstrating how functions can be passed as arguments to other functions.\n",
    "Depending on the operation provided, the apply_operation function applies the corresponding operation to the given operands and returns the result."
   ]
  },
  {
   "cell_type": "code",
   "execution_count": 7,
   "id": "22a6aaf3-360b-45b9-942a-f0633fbe8827",
   "metadata": {},
   "outputs": [
    {
     "name": "stdout",
     "output_type": "stream",
     "text": [
      "Result: [1, 4, 9, 16, 25]\n"
     ]
    }
   ],
   "source": [
    "'''4. Create a Python function that takes a list of numbers and a function as arguments, applying the function to each element in the list.'''\n",
    "\n",
    "def apply_function_to_list(numbers, func):\n",
    "    \"\"\"\n",
    "    Apply the given function to each element in the list of numbers.\n",
    "\n",
    "    Parameters:\n",
    "    numbers (list): A list of numbers.\n",
    "    func (function): The function to apply to each element in the list.\n",
    "\n",
    "    Returns:\n",
    "    list: A list containing the results of applying the function to each element.\n",
    "    \"\"\"\n",
    "    return [func(num) for num in numbers]\n",
    "\n",
    "# Example usage\n",
    "def square(x):\n",
    "    \"\"\"Square a number.\"\"\"\n",
    "    return x ** 2\n",
    "\n",
    "numbers = [1, 2, 3, 4, 5]\n",
    "\n",
    "# Applying the square function to each element in the list\n",
    "result = apply_function_to_list(numbers, square)\n",
    "print(\"Result:\", result) "
   ]
  },
  {
   "cell_type": "raw",
   "id": "afadc86f-d2a0-407b-a0f4-6296d74f87b9",
   "metadata": {},
   "source": [
    "> Built-in Functions:"
   ]
  },
  {
   "cell_type": "raw",
   "id": "63fb05f0-a4ba-4eaf-b04f-08db68ddcce8",
   "metadata": {},
   "source": [
    "'''1. Describe the role of built-in functions like `len()`, `max()`, and `min()` in Python.'''\n",
    "\n",
    "Built-in functions like len(), max(), and min() play a crucial role in Python for performing common operations on data structures, such as lists, tuples, strings, and more. \n",
    "Here's a brief description of each:\n",
    "\n",
    "1. len():\n",
    "The len() function returns the length (number of elements) of a sequence or collection.\n",
    "It can be used with various data structures, including strings, lists, tuples, dictionaries, and sets.\n",
    "Example:\n",
    "\n",
    "my_list = [1, 2, 3, 4, 5]\n",
    "length = len(my_list)  # length will be 5\n",
    "\n",
    "2. max():\n",
    "The max() function returns the largest element in a sequence or collection.\n",
    "It can be used with numerical data types (integers, floats) and also with strings and other comparable objects.\n",
    "Example:\n",
    "\n",
    "my_list = [5, 3, 9, 1, 7]\n",
    "maximum = max(my_list)  # maximum will be 9\n",
    "\n",
    "3. min():\n",
    "The min() function returns the smallest element in a sequence or collection.\n",
    "Like max(), it can be used with numerical data types, strings, and other comparable objects.\n",
    "Example:\n",
    "\n",
    "my_list = [5, 3, 9, 1, 7]\n",
    "minimum = min(my_list)  # minimum will be 1\n",
    "\n",
    "These built-in functions provide convenient ways to perform common tasks in Python programming. \n",
    "They help streamline code and improve readability by providing simple and efficient solutions to tasks like finding the length of a collection or determining the maximum or minimum value within it.\n"
   ]
  },
  {
   "cell_type": "code",
   "execution_count": 1,
   "id": "0411b226-f2b8-4dae-a7c2-acb12411b4d4",
   "metadata": {},
   "outputs": [
    {
     "name": "stdout",
     "output_type": "stream",
     "text": [
      "Original numbers: [1, 2, 3, 4, 5]\n",
      "Squared numbers: [1, 4, 9, 16, 25]\n"
     ]
    }
   ],
   "source": [
    "'''2. Write a Python program that uses the `map()` function to apply a function to each element of a list.'''\n",
    "\n",
    "# Function to square a number\n",
    "def square(x):\n",
    "    return x ** 2\n",
    "\n",
    "# List of numbers\n",
    "numbers = [1, 2, 3, 4, 5]\n",
    "\n",
    "# Using map() to apply the square function to each element in the list\n",
    "squared_numbers = map(square, numbers)\n",
    "\n",
    "# Converting the result to a list (in Python 3, map() returns an iterator)\n",
    "squared_numbers_list = list(squared_numbers)\n",
    "\n",
    "# Displaying the result\n",
    "print(\"Original numbers:\", numbers)\n",
    "print(\"Squared numbers:\", squared_numbers_list)  "
   ]
  },
  {
   "cell_type": "raw",
   "id": "0547ad80-99bc-4612-957c-0c73cd99c5de",
   "metadata": {},
   "source": [
    "'''3. How does the `filter()` function work in Python, and when would you use it?'''\n",
    "\n",
    "In Python, the filter() function is used to filter elements from an iterable (such as a list) based on a specified condition. \n",
    "It takes two arguments: a function that defines the filtering condition and an iterable (e.g., a list) that contains the elements to be filtered.\n",
    "\n",
    "Here's how the filter() function works:\n",
    "\n",
    "The filter() function applies the specified filtering condition to each element in the iterable.\n",
    "If the filtering condition evaluates to True for an element, that element is included in the output.\n",
    "If the filtering condition evaluates to False for an element, that element is excluded from the output.\n",
    "The filter() function returns an iterator containing the elements that passed the filtering condition.\n",
    "The general syntax of the filter() function is as follows:\n",
    "\n",
    "filter(function, iterable)\n",
    "\n",
    "Where:\n",
    "\n",
    "function is a function that takes an element from the iterable as input and returns True if the element should be included in the output, or False otherwise.\n",
    "iterable is the iterable (e.g., list, tuple, set) containing the elements to be filtered.\n",
    "You would use the filter() function when you need to selectively extract elements from a collection based on a specific condition, without modifying the original collection. \n",
    "It provides a concise and efficient way to perform filtering operations, especially when combined with lambda functions or other callable objects.\n",
    "\n",
    "Here's an example demonstrating the usage of the filter() function:\n",
    "\n",
    "# List of numbers\n",
    "numbers = [1, 2, 3, 4, 5, 6, 7, 8, 9, 10]\n",
    "\n",
    "# Filter even numbers using filter() and a lambda function\n",
    "even_numbers = filter(lambda x: x % 2 == 0, numbers)\n",
    "\n",
    "# Convert the result to a list\n",
    "even_numbers_list = list(even_numbers)\n",
    "\n",
    "# Display the filtered even numbers\n",
    "print(\"Even numbers:\", even_numbers_list)  # Output: Even numbers: [2, 4, 6, 8, 10]"
   ]
  },
  {
   "cell_type": "code",
   "execution_count": 1,
   "id": "261d3aed-b1d7-40a0-8149-765ab3652d88",
   "metadata": {},
   "outputs": [
    {
     "name": "stdout",
     "output_type": "stream",
     "text": [
      "Product of all elements: 120\n"
     ]
    }
   ],
   "source": [
    "'''4. Create a Python program that uses the `reduce()` function to find the product of all elements in a list.'''\n",
    "\n",
    "from functools import reduce\n",
    "\n",
    "# List of numbers\n",
    "numbers = [1, 2, 3, 4, 5]\n",
    "\n",
    "# Using reduce() to find the product of all elements in the list\n",
    "product = reduce(lambda x, y: x * y, numbers)\n",
    "\n",
    "# Displaying the result\n",
    "print(\"Product of all elements:\", product) "
   ]
  },
  {
   "cell_type": "raw",
   "id": "77db9398-9f11-4c36-b60d-2080c8c794ae",
   "metadata": {},
   "source": [
    "> Function Documentation and Best Practices :"
   ]
  },
  {
   "cell_type": "raw",
   "id": "a8802406-58e2-4649-b4dc-f0c0f3e559c0",
   "metadata": {},
   "source": [
    "'''1. Explain the purpose of docstrings in Python functions and how to write them.'''\n",
    "\n",
    "Docstrings in Python serve the purpose of documenting functions, classes, modules, or methods. They provide a way to describe what the function does, its parameters, return values, and any other relevant information. \n",
    "Docstrings are accessible via the __doc__ attribute of the function or can be retrieved using the help() function. Writing clear and informative docstrings is essential for improving code readability, maintainability, and understanding.\n",
    "\n",
    "Here's how you can write docstrings in Python functions:\n",
    "\n",
    "Function Definition: Docstrings are written as a string literal enclosed within triple quotes (\"\"\"). They are placed immediately after the function or method definition and before any other code.\n",
    "\n",
    "Content: A docstring typically contains a brief description of the function's purpose, followed by sections documenting its parameters, return values, exceptions raised, and any additional information. It's often written in a concise and clear manner, using proper grammar and punctuation.\n",
    "\n",
    "Format: There are different conventions for writing docstrings in Python. The most common convention is the \"Google style\" or \"numpydoc style,\" which provides guidelines for structuring and formatting docstrings consistently across projects.\n",
    "\n",
    "Here's an example of how to write a docstring for a Python function following the Google style convention:\n",
    "\n",
    "\n",
    "def calculate_square(x):\n",
    "    \"\"\"\n",
    "    Calculate the square of a number.\n",
    "\n",
    "    Parameters:\n",
    "    x (int or float): The number for which the square will be calculated.\n",
    "\n",
    "    Returns:\n",
    "    int or float: The square of the input number.\n",
    "    \"\"\"\n",
    "    return x ** 2"
   ]
  },
  {
   "cell_type": "raw",
   "id": "6c44765f-1b81-44d9-8118-2326419b052a",
   "metadata": {},
   "source": [
    "'''2. Describe some best practices for naming functions and variables in Python, including naming conventions and guidelines.'''\n",
    "\n",
    "Naming functions and variables in Python is crucial for writing clear, readable, and maintainable code. Following consistent naming conventions and guidelines helps improve code readability and makes it easier for others (including your future self) to understand your code. Here are some best practices for naming functions and variables in Python:\n",
    "\n",
    "Use descriptive names: Choose names that accurately describe the purpose and functionality of the function or variable. Avoid using cryptic or abbreviated names that require additional context to understand.\n",
    "\n",
    "Follow naming conventions:\n",
    "\n",
    "Snake_case for functions and variables: Use lowercase letters with underscores to separate words in function names and variable names. For example: calculate_area, user_input.\n",
    "CamelCase for class names: Use capitalization of the first letter of each word (except the first word) without spaces. For example: CarModel, UserProfile.\n",
    "UPPERCASE for constants: Use all capital letters with underscores to separate words for constant values. For example: MAX_VALUE, PI.\n",
    "Use meaningful names: Choose names that convey the purpose, context, or role of the function or variable within the code. Avoid generic names like temp, data, or single-letter variable names like x, y, unless they are used as loop counters or similar short-lived variables.\n",
    "\n",
    "Be consistent: Follow consistent naming conventions throughout your codebase. Consistency in naming makes it easier to understand and navigate the code, especially in larger projects with multiple contributors.\n",
    "\n",
    "Avoid reserved words: Avoid using reserved words or built-in function names as identifiers to prevent conflicts and confusion. For example, avoid naming variables list, str, int, etc., as they are reserved keywords in Python.\n",
    "\n",
    "Use verbs for function names: Use action verbs or verb phrases to name functions, indicating what action the function performs. For example: calculate_area, validate_input, process_data.\n",
    "\n",
    "Be concise but descriptive: Aim for names that are short and concise while still being descriptive enough to convey the intended meaning. Avoid excessively long names, but also avoid overly abbreviated names that sacrifice clarity.\n",
    "\n",
    "Avoid single-letter variable names: Unless used as loop counters or in mathematical formulas where conventionally accepted, avoid using single-letter variable names like i, j, k. Instead, use descriptive names that convey the purpose of the variable.\n",
    "\n",
    "Use underscores for private variables: If you need to indicate that a variable or function is intended for internal use only (i.e., not part of the public API), prefix its name with a single underscore _. For example: _internal_variable, _helper_function.\n",
    "\n",
    "Document edge cases: If a function or variable handles specific edge cases or corner cases, consider including these cases in the name or documenting them explicitly in comments or docstrings.\n",
    "\n",
    "By following these best practices for naming functions and variables in Python, you can write code that is more readable, maintainable, and easier to understand for yourself and others. Consistent and descriptive naming helps improve code quality and reduces the likelihood of errors and misunderstandings.\n",
    "\n"
   ]
  },
  {
   "cell_type": "code",
   "execution_count": null,
   "id": "5f63e1a6-5519-43f2-860b-b46a77a413d9",
   "metadata": {},
   "outputs": [],
   "source": []
  }
 ],
 "metadata": {
  "kernelspec": {
   "display_name": "Python 3 (ipykernel)",
   "language": "python",
   "name": "python3"
  },
  "language_info": {
   "codemirror_mode": {
    "name": "ipython",
    "version": 3
   },
   "file_extension": ".py",
   "mimetype": "text/x-python",
   "name": "python",
   "nbconvert_exporter": "python",
   "pygments_lexer": "ipython3",
   "version": "3.10.8"
  }
 },
 "nbformat": 4,
 "nbformat_minor": 5
}
